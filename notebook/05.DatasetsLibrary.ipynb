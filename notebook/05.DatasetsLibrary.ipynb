{
 "cells": [
  {
   "cell_type": "markdown",
   "source": [
    "# 5장. &#129303;Datasets\n",
    "- [강좌링크](https://wikidocs.net/166806)"
   ],
   "metadata": {
    "collapsed": false
   },
   "id": "977be25aaa998900"
  },
  {
   "cell_type": "code",
   "execution_count": 1,
   "outputs": [],
   "source": [
    "# Notebook 초기화\n",
    "\n",
    "from custom_utils import *\n",
    "\n",
    "from datasets import Dataset, IterableDatasetDict, DownloadConfig, interleave_datasets, load_dataset, load_from_disk\n",
    "from itertools import islice\n",
    "from transformers import AutoModel, AutoTokenizer\n",
    "\n",
    "import html\n",
    "import psutil\n",
    "import timeit\n",
    "\n",
    "wrapper = CustomObject()"
   ],
   "metadata": {
    "collapsed": false,
    "ExecuteTime": {
     "end_time": "2023-08-17T03:29:56.161058200Z",
     "start_time": "2023-08-17T03:29:54.754178500Z"
    }
   },
   "id": "6071841db4d9069c"
  },
  {
   "cell_type": "markdown",
   "source": [
    "# 1. 데이터셋이 허브에 없다면?\n",
    "\n",
    "## 로컬 혹은 원격 데이터셋으로 작업하기\n",
    "|    Data Format     |  Loading script   | Example                                              |\n",
    "|:------------------:|:-----------------:|:-----------------------------------------------------|\n",
    "|     CSV & TSV      |        csv        | load_dataset(\"csv\", data_files=\"myfile.csv\")         |\n",
    "|     Textfiles      |       text        | load_dataset(\"txt\", data_files=\"myfile.txt\")         |\n",
    "| JSON & JSON Lines  |       json        | load_dataset(\"json\", data_files=\"myfile.jsonl\")      |\n",
    "| Pickled DataFrames |      pandas       | load_dataset(\"pandas\", data_files=\"myDataFrame.pkl\") |\n",
    "\n",
    "## 로컬 데이터셋 로딩하기\n",
    "예제 데이터로 이탈리아어 질의응답을 위한 대규모 데이터셋인 **SQuAD-it dataset**을 사용\n",
    "\n",
    "학습 및 평가 집합으로 분할된 파일들은 github에서 호스팅되므로 wget 명령으로 쉽게 다운로드 가능\n",
    "```shell\n",
    "cd ../datas\n",
    "wget https://github.com/crux82/squad-it/raw/master/SQuAD_it-train.json.gz\n",
    "wget https://github.com/crux82/squad-it/raw/master/SQuAD_it-test.json.gz\n",
    "```\n",
    "다운로드 후 압축 해제\n",
    "```shell\n",
    "gzip -dkv SQuAD_it*.json.gz\n",
    "```"
   ],
   "metadata": {
    "collapsed": false
   },
   "id": "355131275f09011e"
  },
  {
   "cell_type": "code",
   "execution_count": 2,
   "outputs": [
    {
     "name": "stdout",
     "output_type": "stream",
     "text": [
      "DatasetDict({\n",
      "    train: Dataset({\n",
      "        features: ['title', 'paragraphs'],\n",
      "        num_rows: 442\n",
      "    })\n",
      "})\n",
      "{'title': '51º stato', 'paragraphs': [{'context': 'La frase \"51° stato\" può essere usata in senso positivo, nel senso che una regione o territorio è così allineata, solidale e favorevole agli Stati Uniti che è come uno stato americano. Può anche essere utilizzato in senso peggiorativo, il che significa che un\\' area o una regione è percepita come sottoposta a un\\' eccessiva influenza o controllo militare o culturale americano. In vari paesi del mondo, le persone che credono che la loro cultura locale o nazionale sia troppo americanizzata usano talvolta il termine \"51° stato\" in riferimento al proprio paese. eccessiva influenza o controllo culturale o militare americano eccessivo.', 'qas': [{'answers': [{'answer_start': 71, 'text': 'una regione o territorio è così allineata, solidale e favorevole agli Stati Uniti'}], 'id': '572eedffc246551400ce47bc', 'question': 'Qual è la connotazione positiva dell\\' etichetta \"51° stato\"?'}]}, {'context': 'L\\'articolo 4, III sezione della Costituzione degli Stati Uniti prevede il potere del Congresso di annettere nuovi stati all\\'Unione. Per entrare nell\\'Unione uno stato deve dare «\"full faith and credit\"» (\"piena fiducia e credito\") agli atti di tutte le assemblee legislative e di tutti i tribunali, compresi i contratti legali, i matrimoni e le sentenze penali. Di contro uno Stato annesso all\\'Unione godrebbe della protezione militare e civile del Governo federale, che è anche tenuto a garantire una forma di governo repubblicana ad ogni Stato dell\\'Unione.', 'qas': []}, {'context': \"Puerto Rico è stato discusso come potenziale 51° stato degli Stati Uniti. In un referendum sullo status del 2012 la maggioranza degli elettori, il 54%, ha espresso insoddisfazione per l' attuale relazione politica. In una domanda separata, il 61 per cento degli elettori ha sostenuto la statualità (escludendo il 26 per cento degli elettori che hanno lasciato in bianco l' interrogazione). L' 11 dicembre 2012, il legislatore di Porto Rico ha deciso di chiedere che il Presidente e il Congresso degli Stati Uniti agiscano sui risultati, mettano fine all' attuale forma di status territoriale e avviino il processo di ammissione di Porto Rico all' Unione come stato. Puerto Rico è stato discusso come potenziale 51° stato degli Stati Uniti.\", 'qas': [{'answers': [{'answer_start': 147, 'text': '54%'}], 'id': '572ef128c246551400ce47d5', 'question': 'Quale percentuale di elettori ha sostenuto la statualità?'}, {'answers': [{'answer_start': 393, 'text': '11 dicembre 2012'}], 'id': '572ef128c246551400ce47d6', 'question': 'Quando ha deciso Porto Rico di chiedere agli Stati Uniti di agire su questi risultati?'}, {'answers': [{'answer_start': 429, 'text': 'Porto Rico'}], 'id': '572ef128c246551400ce47d8', 'question': 'Quale territorio è stato proposto come nuova aggiunta agli Stati Uniti?'}, {'answers': [{'answer_start': 147, 'text': '54%'}], 'id': '572efe86cb0c0d14000f16de', 'question': \"Quali percentuali di elettori hanno espresso infelicità per l' attuale rapporto politico tra Stati Uniti e Porto Rico?\"}, {'answers': [{'answer_start': 393, 'text': '11 dicembre 2012'}], 'id': '572efe86cb0c0d14000f16df', 'question': 'Quando ha chiesto al legislatore di Puerto Rico di essere considerato Stato?'}]}, {'context': \"Dal 1898, Puerto Rico ha una rappresentanza limitata al Congresso sotto forma di Commissario Residente, un delegato senza diritto di voto. Il 110° Congresso ha restituito al Commissario il potere di votare in seno al Comitato dell' intero, ma non su questioni in cui il voto rappresenterebbe una partecipazione decisiva. Puerto Rico ha le elezioni presidenziali degli Stati Uniti presidenziali primari o caucus del Partito Democratico e il Partito Repubblicano di selezionare i delegati alle rispettive convenzioni nazionali dei partiti, anche se gli elettori presidenziali non sono concessi sul collegio elettorale. Come cittadini americani, i portoricani possono votare alle elezioni presidenziali negli Stati Uniti, a condizione che risiedano in uno dei 50 stati o nel Distretto di Columbia e non nello stesso Porto Rico. Dal 1898.\", 'qas': [{'answers': [{'answer_start': 142, 'text': '110° Congresso'}], 'id': '572eff62dfa6aa1500f8d540', 'question': 'Quale Congresso ha dato al commissario il potere di votare?'}]}, {'context': \"I residenti di Puerto Rico pagano imposte federali statunitensi: tasse di import/export, tasse federali sulle materie prime, imposte sociali, contribuendo così al governo americano. La maggior parte dei residenti di Puerto Rico non pagano l' imposta federale sul reddito, ma pagano le imposte federali sui salari (Social Security e Medicare). Tuttavia, i dipendenti federali, quelli che fanno affari con il governo federale, Puerto Rico società con sede a Rico che intendono inviare fondi per gli Stati Uniti e altri fanno pagare le imposte federali sul reddito. Puerto Ricans può arruolarsi nei militari statunitensi. I portoricani hanno partecipato a tutte le guerre americane dal 1898;52 portoricani erano stati uccisi nella guerra in Iraq e in Afghanistan nel novembre 2012. Imposte federali statunitensi. Quali tipi di tasse pagano i portoricani? tasse di importazione/esportazione, tasse federali sulle materie prime, imposte sociali. Che cosa costituisce le tasse federali Puerto Rican cittadini ricani pagare? Puerto Ricans può arruolarsi nel militare degli Stati Uniti.\", 'qas': []}, {'context': \"Puerto Rico è stato sotto la sovranità degli Stati Uniti per oltre un secolo quando è stato ceduto agli Stati Uniti dalla Spagna dopo la fine della guerra ispano-americana, e Puerto Ricans sono stati cittadini statunitensi dal 1917. Lo status definitivo dell' isola non è stato determinato a partire dal 2012[aggiornamento], i suoi residenti non hanno la rappresentanza di voto nel loro governo federale. Puerto Rico ha una rappresentanza limitata al Congresso degli Stati Uniti sotto forma di Commissario Residente, un delegato senza diritto di voto limitato. Come gli stati, Puerto Rico ha l' autogoverno, una forma repubblicana di governo organizzata secondo una costituzione adottata dal suo popolo, e una polizza di diritti. Guerra Spagnolo-Americana. All' indomani di quale guerra gli Stati Uniti hanno concesso Puerto Rico? Spagna. Quale paese ha consegnato Portorico agli Stati Uniti? dal 1917. Da quanto tempo i portoricani sono cittadini statunitensi? repubblicano.\", 'qas': []}, {'context': \"Nel novembre 2012, un referendum ha portato il 54 per cento degli intervistati a votare per rifiutare lo status attuale ai sensi della clausola territoriale della Costituzione degli Stati Uniti, mentre una seconda domanda ha portato al 61 per cento degli elettori identificando la statualità come l' alternativa preferita allo status territoriale attuale. Il referendum del 2012 è stato di gran lunga il referendum di maggior successo per i sostenitori della statualità e il sostegno allo Stato è aumentato in ogni referendum popolare successivo. Tuttavia, più di un elettore su quattro si è astenuto dal rispondere alla domanda sullo status alternativo preferito. Gli oppositori dello Stato hanno sostenuto che l' opzione della statualità ha raccolto solo il 45 per cento dei voti se sono incluse le astensioni. Se si considerano le astensioni, il risultato del referendum è molto più vicino al 44 per cento per la statualità, un numero che cade sotto la soglia della maggioranza del 50 per cento. 54 per cento.\", 'qas': [{'answers': [{'answer_start': 564, 'text': 'un elettore su quattro'}], 'id': '5730429d04bcaa1900d77438', 'question': 'Quale percentuale degli elettori si è astenuta dal voto su uno status alternativo preferito?'}]}, {'context': 'Il Washington Post, il New York Times e il Boston Herald hanno pubblicato pareri che esprimono il loro sostegno alla statualità di Porto Rico. L\\' 8 novembre 2012, Washington, il quotidiano The Hill ha pubblicato un articolo in cui si afferma che il Congresso probabilmente ignorerà i risultati del referendum a causa delle circostanze che stanno alla base dei voti. e Stati Uniti d\\' America Il membro del Congresso Luis Gutiérrez U. S. U. Nydia Velázquez, entrambi di origini portoricane, si è dichiarato d\\' accordo con le dichiarazioni di The Hill. Poco dopo la pubblicazione dei risultati, Puerto Rico-nato negli Stati Uniti. Il membro del Congresso José Enrique Serrano ha commentato:\"Sono rimasto particolarmente colpito dall\\' esito del referendum sullo\" status \"tenutosi a Porto Rico. La maggioranza dei votanti ha segnalato la volontà di modificare l\\' attuale assetto territoriale. In una seconda domanda, una maggioranza ancora più ampia ha chiesto di diventare Stato. Questo è un terremoto nella politica di Puerto Rican. Richiederà l\\' attenzione del Congresso, e una risposta definitiva alla richiesta di cambiamento del Porto Rican. Questo è un momento storico in cui gli elettori hanno chiesto di andare avanti\".', 'qas': [{'answers': [{'answer_start': 189, 'text': 'The Hill'}], 'id': '57304372a23a5019007fd020', 'question': 'Che cosa ha suggerito che il Congresso avrebbe ignorato il referendum di Puerto Rico?'}, {'answers': [{'answer_start': 0, 'text': 'Il Washington Post, il New York Times e il Boston Herald'}], 'id': '57304372a23a5019007fd01f', 'question': 'Quali giornali hanno pubblicato articoli di opinione che esprimono il loro sostegno alla statualità di Puerto Rico?'}, {'answers': [{'answer_start': 146, 'text': '8 novembre 2012'}], 'id': '57304372a23a5019007fd021', 'question': \"Quando è stato pubblicato l' articolo?\"}]}, {'context': 'Alcuni giorni dopo il referendum, il Commissario Pedro Pierluisi, Governatore Luis Fortuño, e il Governatore eletto Alejandro García Padilla hanno scritto al Presidente degli Stati Uniti Barack Obama lettere separate sui risultati delle votazioni. Pierluisi ha esortato Obama ad iniziare la legislazione a favore della statualità di Puerto Rico, alla luce della sua vittoria nel referendum. Fortuño lo esortò a portare avanti il processo. García Padilla gli chiese di respingere i risultati a causa della loro ambiguità. La posizione della Casa Bianca relativa al plebiscito del novembre 2012 era che i risultati erano chiari, il popolo di Puerto Rico vuole la questione dello status risolto, e una maggioranza ha scelto lo stato nella seconda domanda. L\\' ex direttore della Casa Bianca dei media ispanici ha dichiarato:\"Ora è ora che il Congresso agisca e l\\' amministrazione lavorerà con loro su questo sforzo, in modo che il popolo di Puerto Rico possa determinare il proprio futuro\".', 'qas': [{'answers': [{'answer_start': 37, 'text': 'Commissario Pedro Pierluisi, Governatore Luis Fortuño'}], 'id': '573044ce947a6a140053d386', 'question': 'Quali politici hanno spinto per la statualità di Puerto Rico?'}, {'answers': [{'answer_start': 97, 'text': 'Governatore eletto Alejandro García Padilla'}], 'id': '573044ce947a6a140053d387', 'question': 'Quale politico ha combattuto contro la statualità per Puerto Rico?'}]}, {'context': 'Il 15 maggio 2013, il Commissario Pierluisi ha presentato H. R. 2000 al Congresso per \"definire il processo per l\\' ammissione di Porto Rico come stato dell\\' Unione\", chiedendo al Congresso di votare sulla ratifica di Porto Rico come 51° stato. Il 12 febbraio 2014, il senatore Martin Heinrich ha presentato un disegno di legge al Senato degli Stati Uniti. Il progetto di legge richiederebbe l\\' indizione di un referendum vincolante a Portorico per chiedere se il territorio vuole essere ammesso come Stato.', 'qas': []}, {'context': 'Washington, DC è spesso citato come candidato alla statualità. In Federalista No. 43 di The Federalist Papers, James Madison ha considerato le implicazioni della definizione di \"sede del governo\" contenuta nella Costituzione degli Stati Uniti. Anche se ha notato potenziali conflitti di interesse, e la necessità di una \"legislatura comunale per scopi locali\", Madison non ha affrontato il ruolo del distretto nel voto nazionale. Gli studiosi di diritto non sono d\\' accordo sul fatto che un semplice atto del Congresso possa ammettere il Distretto come Stato, a causa del suo status di sede del governo degli Stati Uniti, che l\\' Articolo I, Sezione 8 della Costituzione richiede di essere sotto la giurisdizione esclusiva del Congresso; a seconda dell\\' interpretazione di questo testo, l\\' ammissione del Distretto intero come Stato può richiedere un emendamento costituzionale, che è molto più difficile da mettere in pratica. Tuttavia, la Costituzione non stabilisce una dimensione minima per il Distretto. Le sue dimensioni sono già cambiate una volta, quando Virginia ha recuperato la porzione del Distretto a sud del Potomac. Così il requisito costituzionale per un distretto federale può essere soddisfatto riducendo le sue dimensioni al piccolo nucleo centrale di edifici governativi e monumenti, dando il resto del territorio al nuovo Stato. Giacomo Madison.', 'qas': [{'answers': [{'answer_start': 111, 'text': 'James Madison'}], 'id': '573047ca947a6a140053d396', 'question': 'Dove si trovano queste idee nei documenti federalisti?'}]}, {'context': 'Washington, D. C. residenti che sostengono il movimento statualitÃ\\xa0 a volte usano una versione abbreviata del motto di protesta della guerra rivoluzionaria \"nessuna tassazione senza rappresentanza\", omettendo l\\' iniziale \"No\", denotando la loro mancanza di rappresentanza congressuale, la frase Ã¨ ora stampata su recentemente pubblicato Washington, D. C. targhe (anche se un driver puÃ² scegliere di avere l\\' indirizzo del sito web Washington, DC invece). La limousine presidenziale del presidente Bill Clinton aveva la targa \"Taxation without representation\" in ritardo nel suo mandato, mentre il presidente George W. Bush aveva cambiato le targhe del veicolo poco dopo l\\' inizio del suo mandato.', 'qas': [{'answers': [{'answer_start': 237, 'text': 'la loro mancanza di rappresentanza congressuale'}], 'id': '57304a372461fd1900a9ccf4', 'question': 'Che cosa è la frase di protesta?'}]}, {'context': \"Questa posizione è stata assunta dal D. C. Statehood Party, un partito politico; da allora si è fusa con l' affiliata locale del partito verde per formare il D. C. Statehood Green Party. Il movimento più vicino a questo movimento è mai venuto al successo è stato nel 1978, quando il Congresso ha approvato il Distretto di Columbia voto Diritto di voto Emendamento. Due anni dopo, nel 1980, i cittadini locali approvarono un' iniziativa che chiedeva una convenzione costituzionale per un nuovo Stato. Nel 1982, gli elettori ratificarono la costituzione dello Stato, che doveva essere chiamato Nuova Columbia.\", 'qas': [{'answers': [{'answer_start': 267, 'text': '1978'}], 'id': '57304ae58ab72b1400f9c3f6', 'question': 'Quando il movimento si è avvicinato di più al successo?'}, {'answers': [{'answer_start': 592, 'text': 'Nuova Columbia'}], 'id': '57304ae58ab72b1400f9c3f7', 'question': 'Quale sarebbe il nuovo nome dello Stato DC?'}]}, {'context': 'Altri contendenti meno probabili sono Guam e le Isole Vergini degli Stati Uniti, entrambe non costituite in società, territori organizzati degli Stati Uniti. Inoltre, le isole Marianne settentrionali e Samoa americane, un territorio non sindacalizzato e senza personalità giuridica, potrebbero entrambi cercare di ottenere la sovranità. Alcune proposte prevedono l\\' ammissione delle Isole Vergini con Porto Rico come Stato unico (spesso conosciuto come il proposto \"Commonwealth di Prusvi\", per Porto Rico/USA). Isole Vergini, o come \"Puerto Virgo\"), e per l\\' amalgama dei territori degli Stati Uniti o ex territori nell\\' Oceano Pacifico, nel modo del concetto di \"Greater Hawaii\" degli anni Sessanta. Guam e le Isole Marianne del Nord sarebbero ammesse come un unico Stato, insieme a Palau, agli Stati Federati di Micronesia e alle Isole Marshall (anche se queste ultime tre entità sono ora nazioni sovrane separate, che hanno un patto di libero accordo di associazione con gli Stati Uniti). Tale stato avrebbe una popolazione di 412.381 abitanti (leggermente inferiore alla popolazione del Wyoming) e una superficie di 911,82 miglia quadrate (2.361,6 km2) (leggermente più piccola dell\\' isola di Rodi). Samoa americana potrebbe forse essere parte di tale stato, aumentando la popolazione a 467.900 e l\\' area a 988,65 miglia quadrate (2.560,6 km2). Radio Australia, alla fine di maggio 2008, ha lanciato segnali di Guam e delle Isole Marianne del Nord, tornando a diventare il 51° Stato. Guam.', 'qas': [{'answers': [{'answer_start': 38, 'text': 'Guam'}], 'id': '573071c5069b5314008320d7', 'question': 'Qual è un altro paese probabile per la statualità?'}, {'answers': [{'answer_start': 1350, 'text': 'Radio Australia'}], 'id': '573071c5069b5314008320d8', 'question': 'Quale entità ha riferito che Guam e le Isole Marianne del Nord sono tornate a farlo?'}]}, {'context': 'Le Filippine hanno avuto piccoli movimenti di base per la statualità degli Stati Uniti. Originariamente parte della piattaforma del Partito Progressivo, allora conosciuto come Federalista Partito, il partito caduto nel 1907, che ha coinciso con il cambiamento di nome. Non più tardi del 2004, il concetto che le Filippine diventino uno Stato statunitense è stato parte di una piattaforma politica nelle Filippine. I sostenitori di questo movimento includono i filippini che credono che la qualità della vita nelle Filippine sarebbe più alta e che ci sarebbe meno povertà se le Filippine fossero uno stato o un territorio americano. I sostenitori includono anche i filippini che avevano combattuto come membri delle forze armate degli Stati Uniti in varie guerre durante il periodo del Commonwealth. Filippine. Quale paese aveva un piccolo movimento di base per lo Stato americano? Federalista Partito.', 'qas': []}, {'context': 'In Canada,\"il 51esimo stato\" è una frase generalmente usata in modo tale da implicare che se si prende un certo corso politico, il destino del Canada sarà poco più di una parte degli Stati Uniti. Tra gli esempi si possono citare l\\' accordo di libero scambio Canada-Stati Uniti del 1988, il dibattito sulla creazione di un perimetro di difesa comune, e come potenziale conseguenza della mancata adozione di proposte volte a risolvere la questione della sovranità del Quebec, l\\' accordo di Charlottetown del 1992 e la legge sulla chiarezza del 1999.', 'qas': [{'answers': [{'answer_start': 281, 'text': '1988'}], 'id': '57307298396df9190009610b', 'question': \"Quando è stato approvato l' accordo di libero scambio Canada-US?\"}, {'answers': [{'answer_start': 506, 'text': '1992'}], 'id': '57307298396df9190009610c', 'question': \"Quando è stato firmato l' Accordo di Charlottetown?\"}, {'answers': [{'answer_start': 542, 'text': '1999'}], 'id': '57307298396df9190009610d', 'question': 'Quando è entrata in vigore la legge sulla chiarezza?'}]}, {'context': 'La frase è di solito usata nei dibattiti politici locali, nella scrittura polemica o in conversazioni private. E\\' raramente utilizzato dai politici stessi in un contesto pubblico, anche se in certi momenti della storia canadese i partiti politici hanno usato altre immagini altrettanto cariche. Nelle elezioni federali del 1988, i liberali hanno affermato che il proposto accordo di libero scambio equivaleva a un\\' acquisizione americana di Canada-significa, il partito ha pubblicato un annuncio in cui i conservatori progressisti (PC) strateghi, al momento dell\\' adozione dell\\' accordo, lentamente cancellato il confine Canada-USA da una mappa desktop del Nord America. Nel giro di pochi giorni, tuttavia, i PC risposero con un annuncio che riportava il confine con un marcatore permanente, come un annunciatore intonato \"Ecco dove tracciamo la linea\". Liberali.', 'qas': [{'answers': [{'answer_start': 822, 'text': '\"Ecco dove tracciamo la linea\"'}], 'id': '5730730a069b5314008320e5', 'question': 'Qual era lo slogan di questo annuncio?'}]}, {'context': \"L' implicazione ha una base storica e risale alla rottura dell' America britannica durante la Rivoluzione Americana. Le colonie che avevano confederato per formare gli Stati Uniti invasero il Canada (all' epoca un termine che alludeva specificamente alle province moderne del Quebec e dell' Ontario, che erano in mano britannica solo dal 1763) almeno due volte, nessuna delle quali riuscì a prendere il controllo del territorio. La prima invasione fu durante la Rivoluzione, nell' ipotesi che la presunta ostilità dei canadesi francofoni verso il dominio coloniale britannico, unita all' alleanza franco-americana, li avrebbe resi alleati naturali della causa americana; l' esercito continentale reclutò con successo due reggimenti canadesi per l' invasione. Il fallimento di quell' invasione costrinse i membri di quei reggimenti all' esilio, e si stabilirono soprattutto nello stato di New York. Gli articoli della Confederazione, scritti durante la Rivoluzione, includevano una disposizione che prevedeva che il Canada entrasse a far parte degli Stati Uniti, qualora decidesse di farlo, senza bisogno di richiedere il permesso degli Stati Uniti come farebbero altri stati. Gli Stati Uniti di nuovo invasero il Canada durante la guerra del 1812, ma questo sforzo fu reso più difficile a causa del gran numero di americani lealisti che erano fuggiti in quello che ora è Ontario e ancora resistito a unirsi alla repubblica. I Hunter Patriots nel 1830 e le incursioni Fenian dopo la guerra civile americana sono stati attacchi privati contro il Canada da parte degli Stati Uniti Diversi politici statunitensi nel 19 ° secolo ha parlato anche a favore di annettere il Canada. 1763. Quando ha atterrato Quebec in mani britanniche? 1763. Quando l' Ontario ha atterrato in mani britanniche? la guerra del 1812.\", 'qas': [{'answers': [{'answer_start': 338, 'text': '1763'}], 'id': '5730739e2461fd1900a9ce1d', 'question': 'Cosa hanno suggerito diversi politici statunitensi nel XIX secolo?'}]}, {'context': 'Alla fine degli anni Quaranta, durante gli ultimi giorni del dominio di Terranova (all\\' epoca una dominione-dipendenza nel Commonwealth e indipendente dal Canada), c\\' è stato un generale sostegno, anche se non maggioritario, per la Terranova a formare un\\' unione economica con gli Stati Uniti, grazie agli sforzi del Partito dell\\' Unione Economica e a significativi investimenti statunitensi in Terranova provenienti dagli Stati Uniti - Regno Unito. Alla fine il movimento fallì quando, in un referendum del 1948, gli elettori scelsero di confederare con il Canada (il Partito dell\\' Unione Economica sostenne un \"governo responsabile\" indipendente che avrebbero poi spinto verso i loro obiettivi). Alla fine degli anni\\' 40.', 'qas': []}, {'context': 'Negli Stati Uniti, il termine \"51° Stato\" applicato al Canada può servire a evidenziare le somiglianze e le strette relazioni tra Stati Uniti e Canada. A volte il termine è usato in modo denigratorio, destinato a deridere il Canada come un vicino di casa poco importante. Nelle elezioni generali del Quebec, 1989, il partito politico Parti 51 ha condotto 11 candidati su una piattaforma di Quebec seceding dal Canada per entrare a far parte degli Stati Uniti (con il suo leader, André Perron, affermando Quebec non potrebbe sopravvivere come nazione indipendente). Il partito ha attirato solo 3.846 voti in tutta la provincia, lo 0,11% dei voti totali espressi. In confronto, gli altri partiti a favore della sovranità del Quebec in quanto le elezioni hanno ottenuto il 40,16% (PQ) e l\\' 1,22% (NPDQ).', 'qas': [{'answers': [{'answer_start': 213, 'text': 'deridere il Canada come un vicino di casa poco importante'}], 'id': '573074888ab72b1400f9c4f9', 'question': 'Qual è la connotazione negativa del termine?'}, {'answers': [{'answer_start': 588, 'text': 'solo 3.846 voti'}], 'id': '573074888ab72b1400f9c4fa', 'question': \"Come hanno attirato nel 1989 i voti dell' uomo il Parti 51?\"}]}, {'context': \"A causa della vicinanza geografica dei paesi dell' America centrale agli Stati Uniti, che ha influenze militari, economiche e politiche potenti, ci sono stati diversi movimenti e proposte da parte degli Stati Uniti durante i secoli XIX e XX ad annettere alcune o tutte le repubbliche centroamericane (Costa Rica, El Salvador, Guatemala, Honduras con l' ex British-ruled Bay Islands, Nicaragua, Panama che aveva il territorio degli Stati Uniti governato Canal Zone dal 190. Tuttavia, gli Stati Uniti non hanno mai agito sulla base di queste proposte di alcuni politici statunitensi, alcuni dei quali non sono mai stati consegnati o considerati seriamente. Nel 2001, El Salvador ha adottato il dollaro statunitense come valuta, mentre Panama lo ha utilizzato per decenni a causa dei suoi legami con la Zona Canale. dal 1903 al 1979. Quando Panama ha avuto il Canal Zone Territory regolato dagli Stati Uniti? 2001. Quando ha adottato El Salvador come moneta il dollaro USA? dal 1981. Quando l' Honduras britannico è diventato Belize?.\", 'qas': []}, {'context': \"Cuba, come molti territori spagnoli, voleva liberarsi dalla Spagna. Un movimento a favore dell' indipendenza a Cuba è stato sostenuto dagli Stati Uniti, e i leader della guerriglia cubana volevano l' annessione agli Stati Uniti, ma il leader rivoluzionario cubano José Martí ha invocato la nazione cubana. Quando la nave da guerra statunitense Maine affondò nel porto dell' Avana, gli Stati Uniti accusarono la Spagna e la guerra ispano-americana scoppiò nel 1898. Dopo che gli Stati Uniti hanno vinto, la Spagna ha rinunciato alla rivendicazione di sovranità sui territori, compresa Cuba. Gli Stati Uniti amministravano Cuba come protettorato fino al 1902. Alcuni decenni dopo, nel 1959, il corrotto governo cubano di Fulgencio Batista, appoggiato dagli Stati Uniti, fu rovesciato da Fidel Castro. Castro ha installato un governo marxista-leninista alleato con l' Unione Sovietica, che da allora è al potere. Spagna. Di quale paese era Cuba un territorio? Maine. Quale corazzata affondò nel porto dell' Avana? 1959. Quando ha rovesciato il governo cubano Fidel Castro? Governo marxista-leninista.\", 'qas': []}]}\n",
      "\n",
      "GPU NVIDIA GeForce RTX 3060\n",
      "memory occupied: 0.81GB\n",
      "Allocated GPU Memory: 0.00GB\n",
      "Reserved GPU Memory: 0.00GB\n"
     ]
    }
   ],
   "source": [
    "wrapper.squad_it_dataset = load_dataset(\"json\", data_files = \"../datas/SQuAD_it-train.json\", field = \"data\")\n",
    "print(wrapper.squad_it_dataset)\n",
    "print(wrapper.squad_it_dataset[\"train\"][2])\n",
    "wrapper.init_wrapper()"
   ],
   "metadata": {
    "collapsed": false,
    "ExecuteTime": {
     "end_time": "2023-08-16T23:33:34.593555400Z",
     "start_time": "2023-08-16T23:33:33.499363300Z"
    }
   },
   "id": "188786289ef37e77"
  },
  {
   "cell_type": "markdown",
   "source": [
    "`DatasetDict` 객체가 생성되었으나 학습 분할된 두 파일을 모두 포함시켜 한번에 두 집합에 `Dataset.map()`함수를 적용시키고 싶다.\n",
    "\n",
    "이를 위해 `data_files` 매개변수에 각 분할 이름을 해당 집합 파일명에 매핑하는 딕셔너리를 지정하면 된다."
   ],
   "metadata": {
    "collapsed": false
   },
   "id": "ea1fe64afacd4d03"
  },
  {
   "cell_type": "code",
   "execution_count": 3,
   "outputs": [
    {
     "data": {
      "text/plain": "DatasetDict({\n    train: Dataset({\n        features: ['title', 'paragraphs'],\n        num_rows: 442\n    })\n    test: Dataset({\n        features: ['title', 'paragraphs'],\n        num_rows: 48\n    })\n})"
     },
     "execution_count": 3,
     "metadata": {},
     "output_type": "execute_result"
    }
   ],
   "source": [
    "wrapper.data_files = {\n",
    "    \"train\": \"../datas/SQuAD_it-train.json\",\n",
    "    \"test\": \"../datas/SQuAD_it-test.json\",\n",
    "    \n",
    "    # 자동 압축해제 가능: gz, tar, zip 등\n",
    "    # \"train\": \"../datas/SQuAD_it-train.json.gz\",\n",
    "    # \"test\": \"../datas/SQuAD_it-test.json.gz\"\n",
    "}\n",
    "wrapper.squad_it_dataset = load_dataset(\"json\", data_files = wrapper.data_files, field = \"data\")\n",
    "wrapper.squad_it_dataset"
   ],
   "metadata": {
    "collapsed": false,
    "ExecuteTime": {
     "end_time": "2023-08-16T23:33:35.409166Z",
     "start_time": "2023-08-16T23:33:34.594919Z"
    }
   },
   "id": "9d36eb883b10caf9"
  },
  {
   "cell_type": "markdown",
   "source": [
    "## 원격 데이터셋 로딩하기\n",
    "\n",
    "로컬 데이터셋 로딩과 똑같지만 data_files에 url을 입력한다."
   ],
   "metadata": {
    "collapsed": false
   },
   "id": "adee15f236b7507e"
  },
  {
   "cell_type": "code",
   "execution_count": 4,
   "outputs": [
    {
     "name": "stdout",
     "output_type": "stream",
     "text": [
      "DatasetDict({\n",
      "    train: Dataset({\n",
      "        features: ['title', 'paragraphs'],\n",
      "        num_rows: 442\n",
      "    })\n",
      "    test: Dataset({\n",
      "        features: ['title', 'paragraphs'],\n",
      "        num_rows: 48\n",
      "    })\n",
      "})\n",
      "\n",
      "GPU NVIDIA GeForce RTX 3060\n",
      "memory occupied: 0.81GB\n",
      "Allocated GPU Memory: 0.00GB\n",
      "Reserved GPU Memory: 0.00GB\n"
     ]
    }
   ],
   "source": [
    "wrapper.url = \"https://github.com/crux82/squad-it/raw/master/\"\n",
    "wrapper.data_files = {\n",
    "    \"train\": wrapper.url + \"SQuAD_it-train.json.gz\",\n",
    "    \"test\": wrapper.url + \"SQuAD_it-test.json.gz\"\n",
    "}\n",
    "wrapper.squad_it_dataset = load_dataset(\"json\", data_files = wrapper.data_files, field = \"data\")\n",
    "print(wrapper.squad_it_dataset)\n",
    "\n",
    "wrapper.init_wrapper()"
   ],
   "metadata": {
    "collapsed": false,
    "ExecuteTime": {
     "end_time": "2023-08-16T23:33:36.404725500Z",
     "start_time": "2023-08-16T23:33:35.408076300Z"
    }
   },
   "id": "4a76dcdd6eafd408"
  },
  {
   "cell_type": "markdown",
   "source": [
    "# 2. Dataset Slicing and Dicing\n",
    "\n",
    "&#129303;Datasets는 Pandas와 유사하게 `Dataset` 및 `DatasetDict` 객체의 내용을 조작하는 여러 기능을 제공한다.\n",
    "\n",
    "이번 예제는 UC Irvine Machine Learning Repository에서 호스팅되는 Drug Review Dataset을 사용하는데 이는 다양한 약물에 대한 환자 리뷰, 치료 상태 및 환자 만족도에 대한 별 10개 등급이 포함되어있다.\n",
    "\n",
    "```shell\n",
    "cd ../datas\n",
    "wget \"https://archive.ics.uci.edu/ml/machine-learning-databases/00462/drugsCom_raw.zip\"\n",
    "unzip drugsCom_raw.zip\n",
    "```\n",
    "\n",
    "쉼표 대신 탭문자를 쓰는 CSV인 TSV 파일이므로 parameter에 `delimeter = \"\\t\"`를 추가한다.\n",
    "\n",
    "&#129303;Datasets의 `shuffle()`과 `select()` 함수를 연결해 무작위 샘플을 가져올 수 있다."
   ],
   "metadata": {
    "collapsed": false
   },
   "id": "2274642b3e4852dd"
  },
  {
   "cell_type": "code",
   "execution_count": 5,
   "outputs": [
    {
     "data": {
      "text/plain": "{'Unnamed: 0': [87571, 178045, 80482],\n 'drugName': ['Naproxen', 'Duloxetine', 'Mobic'],\n 'condition': ['Gout, Acute', 'ibromyalgia', 'Inflammatory Conditions'],\n 'review': ['\"like the previous person mention, I&#039;m a strong believer of aleve, it works faster for my gout than the prescription meds I take. No more going to the doctor for refills.....Aleve works!\"',\n  '\"I have taken Cymbalta for about a year and a half for fibromyalgia pain. It is great\\r\\nas a pain reducer and an anti-depressant, however, the side effects outweighed \\r\\nany benefit I got from it. I had trouble with restlessness, being tired constantly,\\r\\ndizziness, dry mouth, numbness and tingling in my feet, and horrible sweating. I am\\r\\nbeing weaned off of it now. Went from 60 mg to 30mg and now to 15 mg. I will be\\r\\noff completely in about a week. The fibro pain is coming back, but I would rather deal with it than the side effects.\"',\n  '\"I have been taking Mobic for over a year with no side effects other than an elevated blood pressure.  I had severe knee and ankle pain which completely went away after taking Mobic.  I attempted to stop the medication however pain returned after a few days.\"'],\n 'rating': [9.0, 3.0, 10.0],\n 'date': ['September 2, 2015', 'November 7, 2011', 'June 5, 2013'],\n 'usefulCount': [36, 13, 128]}"
     },
     "execution_count": 5,
     "metadata": {},
     "output_type": "execute_result"
    }
   ],
   "source": [
    "wrapper.data_files = {\n",
    "    \"train\": \"../datas/drugsComTrain_raw.tsv\",\n",
    "    \"test\": \"../datas/drugsComTest_raw.tsv\"\n",
    "}\n",
    "wrapper.drug_dataset = load_dataset(\"csv\", data_files = wrapper.data_files, delimiter = \"\\t\")\n",
    "wrapper.drug_sample = wrapper.drug_dataset[\"train\"].shuffle(seed = 42).select(range(1000))\n",
    "wrapper.drug_sample[:3]"
   ],
   "metadata": {
    "collapsed": false,
    "ExecuteTime": {
     "end_time": "2023-08-16T23:33:37.233937900Z",
     "start_time": "2023-08-16T23:33:36.401256100Z"
    }
   },
   "id": "6d957977352f357a"
  },
  {
   "cell_type": "markdown",
   "source": [
    "해당 dataset의 단점(quirks) 몇가지를 나열하자면:\n",
    "1. `\"Unnamed: 0\"` column은 아마 각 환자의 익명 ID로 추측됨\n",
    "2. `\"condition\"` column은 대문자와 소문자 레이블이 혼합되어 있음\n",
    "3. 리뷰의 길이는 다양하며 Python 줄 구분 기호(\\r\\n)와 같은 HTML 문자 코드가 혼합되어 있음.\n",
    "\n",
    "> &#129303;Datasets를 사용하여 이런 문제를 처리할 수 있다.\n",
    "\n",
    "Unnamed:0 column이 환자의 ID가 맞는지 Dataset.unique() 함수를 사용해 확인할 수 있다.\n",
    "\n",
    "ID 값이 맞다면 `DatasetDict.rename_column()` 함수를 사용해 한 번에 두 분할에서 컬럼명을 변경할 수 있다."
   ],
   "metadata": {
    "collapsed": false
   },
   "id": "483fcc7bb43b10c4"
  },
  {
   "cell_type": "code",
   "execution_count": 6,
   "outputs": [
    {
     "data": {
      "text/plain": "DatasetDict({\n    train: Dataset({\n        features: ['patient_id', 'drugName', 'condition', 'review', 'rating', 'date', 'usefulCount'],\n        num_rows: 161297\n    })\n    test: Dataset({\n        features: ['patient_id', 'drugName', 'condition', 'review', 'rating', 'date', 'usefulCount'],\n        num_rows: 53766\n    })\n})"
     },
     "execution_count": 6,
     "metadata": {},
     "output_type": "execute_result"
    }
   ],
   "source": [
    "for split in wrapper.drug_dataset.keys():\n",
    "    assert len(wrapper.drug_dataset[split]) == len(wrapper.drug_dataset[split].unique(\"Unnamed: 0\"))\n",
    "\n",
    "wrapper.drug_dataset = wrapper.drug_dataset.rename_column(\n",
    "    original_column_name = \"Unnamed: 0\",\n",
    "    new_column_name = \"patient_id\"\n",
    ")\n",
    "wrapper.drug_dataset"
   ],
   "metadata": {
    "collapsed": false,
    "ExecuteTime": {
     "end_time": "2023-08-16T23:33:37.279453800Z",
     "start_time": "2023-08-16T23:33:37.232144100Z"
    }
   },
   "id": "a1ff6a4862079f05"
  },
  {
   "cell_type": "markdown",
   "source": [
    "다음으로 `Dataset.map()`을 사용하여 None값이 아닌 행을 제외한 데이터셋의 모든 `condition` 레이블을 정규화한다."
   ],
   "metadata": {
    "collapsed": false
   },
   "id": "dca0c284f7a9aff2"
  },
  {
   "cell_type": "code",
   "execution_count": 7,
   "outputs": [
    {
     "data": {
      "text/plain": "{'patient_id': [206461, 95260, 92703],\n 'drugName': ['Valsartan', 'Guanfacine', 'Lybrel'],\n 'condition': ['Left Ventricular Dysfunction', 'ADHD', 'Birth Control'],\n 'review': ['\"It has no side effect, I take it in combination of Bystolic 5 Mg and Fish Oil\"',\n  '\"My son is halfway through his fourth week of Intuniv. We became concerned when he began this last week, when he started taking the highest dose he will be on. For two days, he could hardly get out of bed, was very cranky, and slept for nearly 8 hours on a drive home from school vacation (very unusual for him.) I called his doctor on Monday morning and she said to stick it out a few days. See how he did at school, and with getting up in the morning. The last two days have been problem free. He is MUCH more agreeable than ever. He is less emotional (a good thing), less cranky. He is remembering all the things he should. Overall his behavior is better. \\r\\nWe have tried many different medications and so far this is the most effective.\"',\n  '\"I used to take another oral contraceptive, which had 21 pill cycle, and was very happy- very light periods, max 5 days, no other side effects. But it contained hormone gestodene, which is not available in US, so I switched to Lybrel, because the ingredients are similar. When my other pills ended, I started Lybrel immediately, on my first day of period, as the instructions said. And the period lasted for two weeks. When taking the second pack- same two weeks. And now, with third pack things got even worse- my third period lasted for two weeks and now it&#039;s the end of the third week- I still have daily brown discharge.\\r\\nThe positive side is that I didn&#039;t have any other side effects. The idea of being period free was so tempting... Alas.\"'],\n 'rating': [9.0, 8.0, 5.0],\n 'date': ['May 20, 2012', 'April 27, 2010', 'December 14, 2009'],\n 'usefulCount': [27, 192, 17]}"
     },
     "execution_count": 7,
     "metadata": {},
     "output_type": "execute_result"
    }
   ],
   "source": [
    "def lowercase_condition(example):\n",
    "    return {\"condition\": example[\"condition\"].lower()}\n",
    "\n",
    "wrapper.drug_dataset = wrapper.drug_dataset.filter(lambda x: x[\"condition\"] is not None)\n",
    "wrapper.drug_dataset.map(lowercase_condition)\n",
    "\n",
    "# 확인\n",
    "wrapper.drug_dataset[\"train\"][:3]"
   ],
   "metadata": {
    "collapsed": false,
    "ExecuteTime": {
     "end_time": "2023-08-16T23:33:37.293966100Z",
     "start_time": "2023-08-16T23:33:37.280455800Z"
    }
   },
   "id": "185220cd83fba266"
  },
  {
   "cell_type": "markdown",
   "source": [
    "## 새로운 column 만들기\n",
    "\n",
    "각 리뷰의 단어 수를 계산하기 위해 각 텍스트를 공백으로 나누는 대략적인 heuristic을 사용한다.\n",
    "\n",
    "리뷰의 단어 수로 정렬하여 가장 적은 단어를 사용한 리뷰를 확인할 수 있고 30단어 미만으로 표현된 리뷰를 제거할 수 있다."
   ],
   "metadata": {
    "collapsed": false
   },
   "id": "7ab427896e3b8ecf"
  },
  {
   "cell_type": "code",
   "execution_count": 8,
   "outputs": [
    {
     "name": "stdout",
     "output_type": "stream",
     "text": [
      "{'patient_id': [111469, 13653, 53602], 'drugName': ['Ledipasvir / sofosbuvir', 'Amphetamine / dextroamphetamine', 'Alesse'], 'condition': ['Hepatitis C', 'ADHD', 'Birth Control'], 'review': ['\"Headache\"', '\"Great\"', '\"Awesome\"'], 'rating': [10.0, 10.0, 10.0], 'date': ['February 3, 2015', 'October 20, 2009', 'November 23, 2015'], 'usefulCount': [41, 3, 0], 'review_length': [1, 1, 1]}\n",
      "{'train': 138514, 'test': 46108}\n"
     ]
    }
   ],
   "source": [
    "def compute_review_length(example):\n",
    "    return {\"review_length\": len(example[\"review\"].split())}\n",
    "\n",
    "wrapper.drug_dataset = wrapper.drug_dataset.map(compute_review_length)\n",
    "print(wrapper.drug_dataset[\"train\"].sort(\"review_length\")[:3])\n",
    "\n",
    "\"\"\"\n",
    "또는 아래와 같이 추가하는 방법도 있다.\n",
    "for split in wrapper.drug_dataset.keys():\n",
    "    wrapper.drug_dataset[split].add_column(\"review_length\", [len(a.split()) for a in wrapper.drug_dataset[split][\"review\"]])\n",
    "\"\"\"\n",
    "\n",
    "wrapper.drug_dataset = wrapper.drug_dataset.filter(lambda x: x[\"review_length\"] > 30)\n",
    "print(wrapper.drug_dataset.num_rows)"
   ],
   "metadata": {
    "collapsed": false,
    "ExecuteTime": {
     "end_time": "2023-08-16T23:33:37.300977800Z",
     "start_time": "2023-08-16T23:33:37.291454200Z"
    }
   },
   "id": "4f1910f2664ce0a9"
  },
  {
   "cell_type": "markdown",
   "source": [
    "## HTML 문자 코드 제거\n",
    "\n",
    "Python의 `HTML` 모듈을 사용해 해결 가능"
   ],
   "metadata": {
    "collapsed": false
   },
   "id": "13c156371cb08b29"
  },
  {
   "cell_type": "code",
   "execution_count": 9,
   "outputs": [
    {
     "data": {
      "text/plain": "\"I'm a transformer called BERT\""
     },
     "execution_count": 9,
     "metadata": {},
     "output_type": "execute_result"
    }
   ],
   "source": [
    "wrapper.text = \"I&#039;m a transformer called BERT\"\n",
    "html.unescape(wrapper.text)"
   ],
   "metadata": {
    "collapsed": false,
    "ExecuteTime": {
     "end_time": "2023-08-16T23:33:37.342199Z",
     "start_time": "2023-08-16T23:33:37.302972900Z"
    }
   },
   "id": "103c72ddd8f78692"
  },
  {
   "cell_type": "code",
   "execution_count": 10,
   "outputs": [],
   "source": [
    "wrapper.drug_dataset = wrapper.drug_dataset.map(lambda x: {\"review\": html.unescape(x[\"review\"])})"
   ],
   "metadata": {
    "collapsed": false,
    "ExecuteTime": {
     "end_time": "2023-08-16T23:33:37.343199800Z",
     "start_time": "2023-08-16T23:33:37.306974900Z"
    }
   },
   "id": "4f6e3daeb972082"
  },
  {
   "cell_type": "markdown",
   "source": [
    "## map()의 다양한 능력\n",
    "\n",
    "- `batched`: 매개변수, True로 설정되면 batch가 한 번에 `map()`에 입력됨, default = 1000\n",
    "    위의 unescape map의 실행 속도는 약간 느린데, list comprehension을 사용해 동시에 여러 예제를 한 번에 처리하여 속도를 높일 수 있다.\n",
    "    Inputs: List, Outputs: List"
   ],
   "metadata": {
    "collapsed": false
   },
   "id": "d80fbcb12dcb90ae"
  },
  {
   "cell_type": "code",
   "execution_count": 11,
   "outputs": [],
   "source": [
    "wrapper.new_drug_dataset = wrapper.drug_dataset.map(\n",
    "    lambda x: {\"review\": [html.unescape(o) for o in x[\"review\"]]},\n",
    "    batched = True\n",
    ")"
   ],
   "metadata": {
    "collapsed": false,
    "ExecuteTime": {
     "end_time": "2023-08-16T23:33:37.343199800Z",
     "start_time": "2023-08-16T23:33:37.314972100Z"
    }
   },
   "id": "6a062a08ac92ff64"
  },
  {
   "cell_type": "markdown",
   "source": [
    "`Dataset.map()`을 batch와 함께 사용하는 것은 fast Tokenizer의 속도를 unlock하는데 필수이며 이는 규모가 큰 텍스트 리스트를 빠르게 토큰화할 수 있다."
   ],
   "metadata": {
    "collapsed": false
   },
   "id": "e3c714ff9cc15725"
  },
  {
   "cell_type": "code",
   "execution_count": 12,
   "outputs": [
    {
     "name": "stdout",
     "output_type": "stream",
     "text": [
      "slow tokenizer\n",
      "CPU times: user 251 ms, sys: 2.02 ms, total: 253 ms\n",
      "Wall time: 253 ms\n",
      "slow tokenizer batched\n",
      "CPU times: user 278 ms, sys: 0 ns, total: 278 ms\n",
      "Wall time: 278 ms\n",
      "fast tokenizer\n"
     ]
    },
    {
     "data": {
      "text/plain": "Map:   0%|          | 0/46108 [00:00<?, ? examples/s]",
      "application/vnd.jupyter.widget-view+json": {
       "version_major": 2,
       "version_minor": 0,
       "model_id": "8fd51e8414e34467a7e9b4f99e91d58a"
      }
     },
     "metadata": {},
     "output_type": "display_data"
    },
    {
     "name": "stdout",
     "output_type": "stream",
     "text": [
      "CPU times: user 11.3 s, sys: 54.5 ms, total: 11.3 s\n",
      "Wall time: 11.3 s\n",
      "fast tokenizer batched\n",
      "CPU times: user 273 ms, sys: 1.08 ms, total: 274 ms\n",
      "Wall time: 274 ms\n"
     ]
    },
    {
     "data": {
      "text/plain": "DatasetDict({\n    train: Dataset({\n        features: ['patient_id', 'drugName', 'condition', 'review', 'rating', 'date', 'usefulCount', 'review_length', 'input_ids', 'token_type_ids', 'attention_mask'],\n        num_rows: 138514\n    })\n    test: Dataset({\n        features: ['patient_id', 'drugName', 'condition', 'review', 'rating', 'date', 'usefulCount', 'review_length', 'input_ids', 'token_type_ids', 'attention_mask'],\n        num_rows: 46108\n    })\n})"
     },
     "execution_count": 12,
     "metadata": {},
     "output_type": "execute_result"
    }
   ],
   "source": [
    "wrapper.tokenizer = AutoTokenizer.from_pretrained(\"bert-base-uncased\")\n",
    "wrapper.slow_tokenizer = AutoTokenizer.from_pretrained(\"bert-base-uncased\", use_fast = False)\n",
    "\n",
    "def tokenize_function(examples, is_fast = True):\n",
    "    if is_fast:\n",
    "        return wrapper.tokenizer(examples[\"review\"], truncation = True)\n",
    "    return wrapper.slow_tokenizer(examples[\"review\"], truncation = True)\n",
    "\n",
    "# slow tokenizer\n",
    "print(\"slow tokenizer\")\n",
    "%time wrapper.drug_dataset.map(lambda x: tokenize_function(x, False))\n",
    "\n",
    "# slow tokenizer batched\n",
    "print(\"slow tokenizer batched\")\n",
    "%time wrapper.drug_dataset.map(lambda x: tokenize_function(x, False), batched = True, num_proc = 8)\n",
    "\n",
    "# fast tokenizer\n",
    "print(\"fast tokenizer\")\n",
    "%time wrapper.drug_dataset.map(lambda x: tokenize_function(x))\n",
    "\n",
    "# fast tokenizer batched\n",
    "print(\"fast tokenizer batched\")\n",
    "%time wrapper.drug_dataset.map(lambda x: tokenize_function(x), batched = True, num_proc = 8)"
   ],
   "metadata": {
    "collapsed": false,
    "ExecuteTime": {
     "end_time": "2023-08-16T23:33:49.865250600Z",
     "start_time": "2023-08-16T23:33:37.324477900Z"
    }
   },
   "id": "3f6352d2aef6335c"
  },
  {
   "cell_type": "markdown",
   "source": [
    "AutoTokenizer의 default가 fast tokenizer인 이유가 보임 거의 40배는 빨라짐\n",
    "\n",
    "매개변수 `num_proc`의 경우 8로 했을 때가 가장 빠르다고 함. 그 외에는 `num_proc` 값을 지정하지 않은 경우가 더 빠름.\n",
    "\n",
    "__일반적으로__ `batched = True`인 fast Tokenizer에는 Python 다중처리를 하지 않는 것이 좋다고 함.\n",
    "\n",
    "이 모든 기능을 하나로 합친게 `Dataset.map()`\n",
    "\n",
    "일반적으로 기계 학습에서 하나의 예제는 모델에 제공하는 feature의 집합으로 정의된다. 특정 상황에서 이런 feature는 `Dataset` 내의 column으로 표현되지만 다른 맥락에서는 여러개의 feature가 하나의 단일 예제에서 추출되어 column에 속하는 경우도 있다.\n",
    "\n",
    "아래 코드는 예제(example)들을 토큰화하고 최대 길이 128로 자른다. 그러나 이 과정에서 tokenizer에게 전체 `review`의 앞부분 128개 토큰으로 구성된 chunk가 아니라 텍스트의 모든 chunk를 반환(`return_overflowing_tokens=True`)하도록 요청한다."
   ],
   "metadata": {
    "collapsed": false
   },
   "id": "4eb7d889e5694fe0"
  },
  {
   "cell_type": "code",
   "execution_count": 13,
   "outputs": [
    {
     "data": {
      "text/plain": "Map:   0%|          | 0/46108 [00:00<?, ? examples/s]",
      "application/vnd.jupyter.widget-view+json": {
       "version_major": 2,
       "version_minor": 0,
       "model_id": "2678713d1770472a81e932fba36422a1"
      }
     },
     "metadata": {},
     "output_type": "display_data"
    }
   ],
   "source": [
    "def tokenize_and_split(examples):\n",
    "    return wrapper.tokenizer(\n",
    "        examples[\"review\"],\n",
    "        truncation = True,\n",
    "        max_length = 128,\n",
    "        return_overflowing_tokens = True\n",
    "    )\n",
    "\n",
    "# 이전 데이터셋의 열을 제거하거나 새로운 데이터셋과 동일한 크기로 만들며 수행(remove_columns)\n",
    "wrapper.tokenized_dataset = wrapper.drug_dataset.map(\n",
    "    tokenize_and_split,\n",
    "    batched = True,\n",
    "    remove_columns = wrapper.drug_dataset[\"train\"].column_names\n",
    ")"
   ],
   "metadata": {
    "collapsed": false,
    "ExecuteTime": {
     "end_time": "2023-08-16T23:33:57.959379800Z",
     "start_time": "2023-08-16T23:33:49.863248900Z"
    }
   },
   "id": "5db6397e7d89d38f"
  },
  {
   "cell_type": "code",
   "execution_count": 14,
   "outputs": [
    {
     "name": "stdout",
     "output_type": "stream",
     "text": [
      "204198 138514\n"
     ]
    },
    {
     "data": {
      "text/plain": "DatasetDict({\n    train: Dataset({\n        features: ['input_ids', 'token_type_ids', 'attention_mask', 'overflow_to_sample_mapping'],\n        num_rows: 204198\n    })\n    test: Dataset({\n        features: ['input_ids', 'token_type_ids', 'attention_mask', 'overflow_to_sample_mapping'],\n        num_rows: 68023\n    })\n})"
     },
     "execution_count": 14,
     "metadata": {},
     "output_type": "execute_result"
    }
   ],
   "source": [
    "print(len(wrapper.tokenized_dataset[\"train\"]), len(wrapper.drug_dataset[\"train\"]))\n",
    "wrapper.tokenized_dataset"
   ],
   "metadata": {
    "collapsed": false,
    "ExecuteTime": {
     "end_time": "2023-08-16T23:33:57.968890200Z",
     "start_time": "2023-08-16T23:33:57.962380100Z"
    }
   },
   "id": "aa0567c029910fbf"
  },
  {
   "cell_type": "markdown",
   "source": [
    "이전 열을 새 열과 같은 크기로 만들어 길이 불일치 문제를 해결할 수도 있다고 했는데 이를 위해 `return_overflowing_tokens=True`설정 시 Tokenizer가 반환하는 `overflow_to_sample_mapping` 필드가 필요하다. 이 필드는 새로운 feature index에서 샘플의 인덱스로의 매핑을 제공한다. 이를 사용해 새 feature를 생성하는 횟수만큼 각 예제의 값을 반복해 원본 데이터셋에 있는 각 키를 올바른 크기의 값 목록과 연결할 수 있다."
   ],
   "metadata": {
    "collapsed": false
   },
   "id": "4b5f35ce73614dc1"
  },
  {
   "cell_type": "code",
   "execution_count": 15,
   "outputs": [
    {
     "data": {
      "text/plain": "Map:   0%|          | 0/138514 [00:00<?, ? examples/s]",
      "application/vnd.jupyter.widget-view+json": {
       "version_major": 2,
       "version_minor": 0,
       "model_id": "44cbc2f9283d452caa1f322ec87117ef"
      }
     },
     "metadata": {},
     "output_type": "display_data"
    },
    {
     "data": {
      "text/plain": "Map:   0%|          | 0/46108 [00:00<?, ? examples/s]",
      "application/vnd.jupyter.widget-view+json": {
       "version_major": 2,
       "version_minor": 0,
       "model_id": "3ee018493aae468da07152a9460dccfc"
      }
     },
     "metadata": {},
     "output_type": "display_data"
    },
    {
     "data": {
      "text/plain": "DatasetDict({\n    train: Dataset({\n        features: ['patient_id', 'drugName', 'condition', 'review', 'rating', 'date', 'usefulCount', 'review_length', 'input_ids', 'token_type_ids', 'attention_mask'],\n        num_rows: 204198\n    })\n    test: Dataset({\n        features: ['patient_id', 'drugName', 'condition', 'review', 'rating', 'date', 'usefulCount', 'review_length', 'input_ids', 'token_type_ids', 'attention_mask'],\n        num_rows: 68023\n    })\n})"
     },
     "execution_count": 15,
     "metadata": {},
     "output_type": "execute_result"
    }
   ],
   "source": [
    "def tokenize_and_split(examples):\n",
    "    result = wrapper.tokenizer(\n",
    "        examples[\"review\"],\n",
    "        truncation = True,\n",
    "        max_length = 128,\n",
    "        return_overflowing_tokens = True\n",
    "    )\n",
    "    \n",
    "    # 신규 인덱스와 이전 인덱스와의 매핑 추출\n",
    "    sample_map = result.pop(\"overflow_to_sample_mapping\")\n",
    "    for k, v in examples.items():\n",
    "        result[k] = [v[i] for i in sample_map]\n",
    "    return result\n",
    "\n",
    "# 이로써 이전 열을 제거할 필요 없이 `Dataset.map()`과 함께 작동\n",
    "wrapper.tokenized_dataset = wrapper.drug_dataset.map(tokenize_and_split, batched = True)\n",
    "\n",
    "# 위와 동일하게 증가된 수의 학습 feature를 얻었지만 이전 필드를 모두 유지한다.\n",
    "wrapper.tokenized_dataset"
   ],
   "metadata": {
    "collapsed": false,
    "ExecuteTime": {
     "end_time": "2023-08-16T23:34:30.750670800Z",
     "start_time": "2023-08-16T23:33:57.993115500Z"
    }
   },
   "id": "6ae3bfb69c4fac8b"
  },
  {
   "cell_type": "markdown",
   "source": [
    "&#129303;Datasets를 사용하여 다양한 방식으로 데이터셋을 preprocessing하는 법을 확인했다. &#129303;Datasets의 함수들은 모델 학습에 필요한 대부분의 요구 사항을 수용하지만 `DataFrame.groupby()` 또는 시각화를 위한 고급 API와 같은 보다 강력한 기능을 사용하기 위해 Pandas를 사용해야 하는 경우가 있다.\n",
    "\n",
    "다행히 &#129303;Datasets는 Pandas, NumPy, PyTorch, TensorFlow, JAX 등과 같은 라이브러리와 상호 운용 가능하도록 설계되었다."
   ],
   "metadata": {
    "collapsed": false
   },
   "id": "d9f9ad7f71aa555b"
  },
  {
   "cell_type": "markdown",
   "source": [
    "## Datasets과 DataFrames 간의 상호 변환\n",
    "\n",
    "다양한 서드파티 라이브러리들 간의 변환을 가능하게 하기 위해 &#129303;Datasets는 `Dataset.set_format()` 함수를 제공해 기본 데이터 포맷(Apache Arrow)에 영향을 주지 않고 데이터셋의 출력 형식만 쉽게 전환할 수 있다."
   ],
   "metadata": {
    "collapsed": false
   },
   "id": "123086d87101c6ec"
  },
  {
   "cell_type": "code",
   "execution_count": 16,
   "outputs": [
    {
     "name": "stdout",
     "output_type": "stream",
     "text": [
      "   patient_id    drugName      condition  \\\n",
      "0       95260  Guanfacine           ADHD   \n",
      "1       92703      Lybrel  Birth Control   \n",
      "2      138000  Ortho Evra  Birth Control   \n",
      "\n",
      "                                              review  rating  \\\n",
      "0  \"My son is halfway through his fourth week of ...     8.0   \n",
      "1  \"I used to take another oral contraceptive, wh...     5.0   \n",
      "2  \"This is my first time using any form of birth...     8.0   \n",
      "\n",
      "                date  usefulCount  review_length  \n",
      "0     April 27, 2010          192            141  \n",
      "1  December 14, 2009           17            134  \n",
      "2   November 3, 2015           10             89  \n",
      "   patient_id    drugName      condition  \\\n",
      "0       95260  Guanfacine           ADHD   \n",
      "1       92703      Lybrel  Birth Control   \n",
      "\n",
      "                                              review  rating  \\\n",
      "0  \"My son is halfway through his fourth week of ...     8.0   \n",
      "1  \"I used to take another oral contraceptive, wh...     5.0   \n",
      "\n",
      "                date  usefulCount  review_length  \n",
      "0     April 27, 2010          192            141  \n",
      "1  December 14, 2009           17            134  \n"
     ]
    }
   ],
   "source": [
    "\"\"\"\n",
    "내부적으로 __getitem__()의 반환 형식을 변경하기 때문에\n",
    "wrapper.drug_dataset[\"train\"].head(3)와 같은 문법은 사용 불가능하다.\n",
    "Dataset.head()는 없기 때문\n",
    "> set_format(\"pandas\")으로 DataFrame을 얻으려면 slicing해야함.\n",
    "\"\"\"\n",
    "wrapper.drug_dataset.set_format(\"pandas\")\n",
    "print(wrapper.drug_dataset[\"train\"][:3])\n",
    "print(wrapper.drug_dataset[\"train\"][:].head(2))\n",
    "\n",
    "wrapper.train_df = wrapper.drug_dataset[\"train\"][:]"
   ],
   "metadata": {
    "collapsed": false,
    "ExecuteTime": {
     "end_time": "2023-08-16T23:34:30.852466200Z",
     "start_time": "2023-08-16T23:34:30.730671800Z"
    }
   },
   "id": "37969877b102308b"
  },
  {
   "cell_type": "markdown",
   "source": [
    "Dataset을 slicing해 DataFrame으로 만들었으니 모든 Pandas 기능을 사용할 수 있다.\n",
    "\n",
    "예를 들어, `condition` 항목의 클래스 분포를 계산하기 위한 chaining하거나 새로운 `Dataset` 객체를 생성할 수 있다."
   ],
   "metadata": {
    "collapsed": false
   },
   "id": "6a1a5a6d4eb61e8c"
  },
  {
   "cell_type": "code",
   "execution_count": 18,
   "outputs": [
    {
     "data": {
      "text/plain": "       frequency  count\n0  Birth Control  27655\n1     Depression   8023\n2           Acne   5209\n3        Anxiety   4991\n4           Pain   4744",
      "text/html": "<div>\n<style scoped>\n    .dataframe tbody tr th:only-of-type {\n        vertical-align: middle;\n    }\n\n    .dataframe tbody tr th {\n        vertical-align: top;\n    }\n\n    .dataframe thead th {\n        text-align: right;\n    }\n</style>\n<table border=\"1\" class=\"dataframe\">\n  <thead>\n    <tr style=\"text-align: right;\">\n      <th></th>\n      <th>frequency</th>\n      <th>count</th>\n    </tr>\n  </thead>\n  <tbody>\n    <tr>\n      <th>0</th>\n      <td>Birth Control</td>\n      <td>27655</td>\n    </tr>\n    <tr>\n      <th>1</th>\n      <td>Depression</td>\n      <td>8023</td>\n    </tr>\n    <tr>\n      <th>2</th>\n      <td>Acne</td>\n      <td>5209</td>\n    </tr>\n    <tr>\n      <th>3</th>\n      <td>Anxiety</td>\n      <td>4991</td>\n    </tr>\n    <tr>\n      <th>4</th>\n      <td>Pain</td>\n      <td>4744</td>\n    </tr>\n  </tbody>\n</table>\n</div>"
     },
     "execution_count": 18,
     "metadata": {},
     "output_type": "execute_result"
    }
   ],
   "source": [
    "wrapper.frequencies = (\n",
    "    wrapper.train_df[\"condition\"]\n",
    "    .value_counts()\n",
    "    .to_frame()\n",
    "    .reset_index()\n",
    "    .rename(columns = {\n",
    "        \"index\": \"condition\",\n",
    "        \"condition\": \"frequency\"\n",
    "    })\n",
    ")\n",
    "wrapper.frequencies.head()"
   ],
   "metadata": {
    "collapsed": false,
    "ExecuteTime": {
     "end_time": "2023-08-16T23:35:37.891388200Z",
     "start_time": "2023-08-16T23:35:37.877456200Z"
    }
   },
   "id": "f4b3255508f5b3e3"
  },
  {
   "cell_type": "code",
   "execution_count": 21,
   "outputs": [
    {
     "data": {
      "text/plain": "Dataset({\n    features: ['frequency', 'count'],\n    num_rows: 819\n})"
     },
     "execution_count": 21,
     "metadata": {},
     "output_type": "execute_result"
    }
   ],
   "source": [
    "# 복구\n",
    "wrapper.drug_dataset.reset_format()\n",
    "\n",
    "# Dataset from Pandas\n",
    "wrapper.freq_dataset = Dataset.from_pandas(wrapper.frequencies)\n",
    "wrapper.freq_dataset"
   ],
   "metadata": {
    "collapsed": false,
    "ExecuteTime": {
     "end_time": "2023-08-16T23:48:14.797508Z",
     "start_time": "2023-08-16T23:48:14.786506400Z"
    }
   },
   "id": "3c2f7eb49897110d"
  },
  {
   "cell_type": "markdown",
   "source": [
    "## Validation Set 생성\n",
    "\n",
    "모델 성능 평가에 사용할 수 있는 test set이 있지만 학습 성능 향상을 위해 개발 중에 별도의 검증 집합을 만드는 것이 좋다.\n",
    "\n",
    "검증 집합에서 모델의 성능에 만족하면 test set에서 최종적인 온전성 검사 sanity check를 수행할 수 있다.\n",
    "\n",
    "&#129303;Datasets는 `scikit-learn`의 기능을 기반으로 하는 `Dataset.train_test_split()` 함수를 제공한다."
   ],
   "metadata": {
    "collapsed": false
   },
   "id": "3dcd195d99881813"
  },
  {
   "cell_type": "code",
   "execution_count": 22,
   "outputs": [
    {
     "data": {
      "text/plain": "DatasetDict({\n    train: Dataset({\n        features: ['patient_id', 'drugName', 'condition', 'review', 'rating', 'date', 'usefulCount', 'review_length'],\n        num_rows: 110811\n    })\n    validation: Dataset({\n        features: ['patient_id', 'drugName', 'condition', 'review', 'rating', 'date', 'usefulCount', 'review_length'],\n        num_rows: 27703\n    })\n    test: Dataset({\n        features: ['patient_id', 'drugName', 'condition', 'review', 'rating', 'date', 'usefulCount', 'review_length'],\n        num_rows: 46108\n    })\n})"
     },
     "execution_count": 22,
     "metadata": {},
     "output_type": "execute_result"
    }
   ],
   "source": [
    "# train, test로 나뉘어진 Dataset 반환\n",
    "wrapper.drug_dataset_clean = wrapper.drug_dataset[\"train\"].train_test_split(train_size = 0.8, seed = 42)\n",
    "\n",
    "# test Dataset을 validation으로 변경\n",
    "wrapper.drug_dataset_clean[\"validation\"] = wrapper.drug_dataset_clean.pop(\"test\")\n",
    "\n",
    "# DatasetDict에 test Dataset을 추가\n",
    "wrapper.drug_dataset_clean[\"test\"] = wrapper.drug_dataset[\"test\"]\n",
    "\n",
    "wrapper.drug_dataset_clean"
   ],
   "metadata": {
    "collapsed": false,
    "ExecuteTime": {
     "end_time": "2023-08-16T23:53:42.842271100Z",
     "start_time": "2023-08-16T23:53:42.821768500Z"
    }
   },
   "id": "f0ee30c42dfcc14d"
  },
  {
   "cell_type": "markdown",
   "source": [
    "## Dataset 저장\n",
    "\n",
    "&#129303;Datasets는 다운로드한 모든 데이터셋과 수행된 작업을 임시저장하지만 디스크에 저장하고 싶을 때가 있는데 아래와 같이 저장한다.\n",
    "\n",
    "|  Data format  | Function               |\n",
    "|:-------------:|------------------------|\n",
    "|     Arrow     | Dataset.save_to_disk() |\n",
    "|      CSV      | Dataset.to_csv()       |\n",
    "|     JSON      | Dataset.to_json()      |\n",
    "![](../assets/drug_reviews_tree.png)"
   ],
   "metadata": {
    "collapsed": false
   },
   "id": "3e3918fdf78097f3"
  },
  {
   "cell_type": "code",
   "execution_count": 25,
   "outputs": [
    {
     "data": {
      "text/plain": "Saving the dataset (0/1 shards):   0%|          | 0/110811 [00:00<?, ? examples/s]",
      "application/vnd.jupyter.widget-view+json": {
       "version_major": 2,
       "version_minor": 0,
       "model_id": "eeaefba219f440169d42e8d05c589a12"
      }
     },
     "metadata": {},
     "output_type": "display_data"
    },
    {
     "data": {
      "text/plain": "Saving the dataset (0/1 shards):   0%|          | 0/27703 [00:00<?, ? examples/s]",
      "application/vnd.jupyter.widget-view+json": {
       "version_major": 2,
       "version_minor": 0,
       "model_id": "4fe7fa887d09469db5bd47e19e7a3f36"
      }
     },
     "metadata": {},
     "output_type": "display_data"
    },
    {
     "data": {
      "text/plain": "Saving the dataset (0/1 shards):   0%|          | 0/46108 [00:00<?, ? examples/s]",
      "application/vnd.jupyter.widget-view+json": {
       "version_major": 2,
       "version_minor": 0,
       "model_id": "eee5e1257fd045d6a9e83847ce750bed"
      }
     },
     "metadata": {},
     "output_type": "display_data"
    },
    {
     "name": "stdout",
     "output_type": "stream",
     "text": [
      "DatasetDict({\n",
      "    train: Dataset({\n",
      "        features: ['patient_id', 'drugName', 'condition', 'review', 'rating', 'date', 'usefulCount', 'review_length'],\n",
      "        num_rows: 110811\n",
      "    })\n",
      "    validation: Dataset({\n",
      "        features: ['patient_id', 'drugName', 'condition', 'review', 'rating', 'date', 'usefulCount', 'review_length'],\n",
      "        num_rows: 27703\n",
      "    })\n",
      "    test: Dataset({\n",
      "        features: ['patient_id', 'drugName', 'condition', 'review', 'rating', 'date', 'usefulCount', 'review_length'],\n",
      "        num_rows: 46108\n",
      "    })\n",
      "})\n",
      "\n",
      "GPU NVIDIA GeForce RTX 3060\n",
      "memory occupied: 0.81GB\n",
      "Allocated GPU Memory: 0.00GB\n",
      "Reserved GPU Memory: 0.00GB\n"
     ]
    }
   ],
   "source": [
    "wrapper.drug_dataset_clean.save_to_disk(\"../datas/drug_reviews\")\n",
    "\n",
    "wrapper.drug_dataset_reload = load_from_disk(\"../datas/drug_reviews\")\n",
    "print(wrapper.drug_dataset_reload)\n",
    "\n",
    "del lowercase_condition, compute_review_length, tokenize_function, tokenize_and_split\n",
    "wrapper.init_wrapper()"
   ],
   "metadata": {
    "collapsed": false,
    "ExecuteTime": {
     "end_time": "2023-08-17T00:20:55.542145600Z",
     "start_time": "2023-08-17T00:20:53.466374800Z"
    }
   },
   "id": "d34aff12847d7edf"
  },
  {
   "cell_type": "markdown",
   "source": [
    "CSV 및 JSON 형식은 각 분할 { train, test, validation }을 별도의 파일로 저장해야 한다.\n",
    "```python\n",
    "for split, dataset in wrapper.drug_dataset_clean.items():\n",
    "    dataset.to_json(f\"drug-reviews-{split}.jsonl\") # 형식은 csv, json, jsonl 등 사용 가능함\n",
    "\n",
    "# 다시 불러올 때는 위에서처럼 load_dataset() 사용\n",
    "```"
   ],
   "metadata": {
    "collapsed": false
   },
   "id": "2e7f0c3f796b2fe1"
  },
  {
   "cell_type": "markdown",
   "source": [
    "# 3. &#129303;Datasets가 빅데이터 문제를 해결한다.\n",
    "\n",
    "데이터셋을 memory-mapped 파일로 처리하여 메모리 관리 문제를 해결하고 corpus의 각 항목들을 스트리밍하여 하드디스크 제한에서 해방한다.\n",
    "\n",
    "이 섹션에서는 Pile로 알려진 825GB 규모의 데이터셋을 이용한다.\n",
    "\n",
    "## Pile\n",
    "EleutherAI가 대규모 언어 모델을 학습하기 위해 만든 영어 텍스트 말뭉치로, 학술 논문, github 코드 리포지토리 및 필터링된 웹 텍스트에 이르는 다양한 데이터셋이 포함되어 있다. 학습 데이터는 14GB 청크로 제공되며 개별적인 구성 요소를 각각 다운로드할 수 있다. 먼저, 1,500만 건으로 구성된 생의학 출판물 초록 모음인 PubMed Abstracts 데이터셋을 보면 JSON Lines 형식이고 `zstandard` 라이브러리를 사용하여 압축되므로 먼저 zstandard를 설치해야 한다."
   ],
   "metadata": {
    "collapsed": false
   },
   "id": "f86f3c0575b66606"
  },
  {
   "cell_type": "code",
   "execution_count": 6,
   "outputs": [
    {
     "name": "stdout",
     "output_type": "stream",
     "text": [
      "Dataset({\n",
      "    features: ['meta', 'text'],\n",
      "    num_rows: 15518009\n",
      "})\n",
      "{'meta': {'pmid': 11409574, 'language': 'eng'}, 'text': 'Epidemiology of hypoxaemia in children with acute lower respiratory infection.\\nTo determine the prevalence of hypoxaemia in children aged under 5 years suffering acute lower respiratory infections (ALRI), the risk factors for hypoxaemia in children under 5 years of age with ALRI, and the association of hypoxaemia with an increased risk of dying in children of the same age. Systematic review of the published literature. Out-patient clinics, emergency departments and hospitalisation wards in 23 health centres from 10 countries. Cohort studies reporting the frequency of hypoxaemia in children under 5 years of age with ALRI, and the association between hypoxaemia and the risk of dying. Prevalence of hypoxaemia measured in children with ARI and relative risks for the association between the severity of illness and the frequency of hypoxaemia, and between hypoxaemia and the risk of dying. Seventeen published studies were found that included 4,021 children under 5 with acute respiratory infections (ARI) and reported the prevalence of hypoxaemia. Out-patient children and those with a clinical diagnosis of upper ARI had a low risk of hypoxaemia (pooled estimate of 6% to 9%). The prevalence increased to 31% and to 43% in patients in emergency departments and in cases with clinical pneumonia, respectively, and it was even higher among hospitalised children (47%) and in those with radiographically confirmed pneumonia (72%). The cumulated data also suggest that hypoxaemia is more frequent in children living at high altitude. Three papers reported an association between hypoxaemia and death, with relative risks varying between 1.4 and 4.6. Papers describing predictors of hypoxaemia have focused on clinical signs for detecting hypoxaemia rather than on identifying risk factors for developing this complication. Hypoxaemia is a common and potentially lethal complication of ALRI in children under 5, particularly among those with severe disease and those living at high altitude. Given the observed high prevalence of hypoxaemia and its likely association with increased mortality, efforts should be made to improve the detection of hypoxaemia and to provide oxygen earlier to more children with severe ALRI.'}\n"
     ]
    }
   ],
   "source": [
    "# url 오류로 [토렌트 파일 다운](https://the-eye.eu/public/AI/EleutherAI_ThePile_v1.torrent)받아서 로컬에서 불러옴 PUBMED_title_abstracts_2019_baseline.jsonl.zst만 다운받으면 6.42GB\n",
    "# wrapper.data_files = \"https://the-eye.eu/public/AI/pile_preliminary_components/PUBMED_title_abstracts_2019_baseline.jsonl.zst\"\n",
    "wrapper.data_files = \"../datas/EleutherAI_ThePile_v1/pile_preliminary_components/PUBMED_title_abstracts_2019_baseline.jsonl.zst\"\n",
    "\n",
    "# 하드디스크의 공간을 절약하기 위해 download_config 인수에 DownloadConfig(delete_extracted=True) 전달하여 압축해제된 파일 제거\n",
    "wrapper.pubmed_dataset = load_dataset(\"json\", data_files = wrapper.data_files, split = \"train\", download_config = DownloadConfig(delete_extracted = True))\n",
    "\n",
    "print(wrapper.pubmed_dataset)\n",
    "print(wrapper.pubmed_dataset[0])"
   ],
   "metadata": {
    "collapsed": false,
    "ExecuteTime": {
     "end_time": "2023-08-17T02:12:41.816176400Z",
     "start_time": "2023-08-17T02:12:37.157394Z"
    }
   },
   "id": "6029a797a629e9ab"
  },
  {
   "cell_type": "markdown",
   "source": [
    "## memory-mapping\n",
    "\n",
    "메모리 사용량을 측정하기 위해 process util에 관련된 psutil 라이브러리 사용"
   ],
   "metadata": {
    "collapsed": false
   },
   "id": "66235473321d4f04"
  },
  {
   "cell_type": "code",
   "execution_count": 7,
   "outputs": [
    {
     "name": "stdout",
     "output_type": "stream",
     "text": [
      "RAM used: 1325.50 MB\n",
      "Number of files is dataset: 20978892555\n",
      "Dataset size (cache file): 19.54GB\n"
     ]
    }
   ],
   "source": [
    "# rss 속성은 프로세스가 RAM에서 차지하는 메모리 비율인 `Resident Set Size`를 의미.\n",
    "print(f\"RAM used: {psutil.Process().memory_info().rss / (1024**2):.2f} MB\")\n",
    "\n",
    "# `dataset_size` 속성을 사용해 데이터셋이 디스크에서 어느 정도 크기인지 확인\n",
    "print(f\"Number of files is dataset: {wrapper.pubmed_dataset.dataset_size}\")\n",
    "wrapper.size_gb = wrapper.pubmed_dataset.dataset_size / (1024 ** 3)\n",
    "print(f\"Dataset size (cache file): {wrapper.size_gb:.2f}GB\")"
   ],
   "metadata": {
    "collapsed": false,
    "ExecuteTime": {
     "end_time": "2023-08-17T02:12:41.817176Z",
     "start_time": "2023-08-17T02:12:41.814175Z"
    }
   },
   "id": "1efd85c884b9f1ac"
  },
  {
   "cell_type": "markdown",
   "source": [
    "&#129303;Datasets는 각 데이터셋을 memory-mapped file로 처리한다. 이 파일은 RAM과 파일 시스템 스토리지 간의 매핑을 제공하여 라이브러리가 데이터셋을 메모리에 완전히 로드할 필요없이 각 요소에 액세스하고 작동할 수 있도록 해준다.\n",
    "\n",
    "memory-mapped file은 여러 프로세스에서 공유될 수 있으므로 `Dataset.map()`과 같은 메서드를 병렬화할 수 있다."
   ],
   "metadata": {
    "collapsed": false
   },
   "id": "adf1476c68b62767"
  },
  {
   "cell_type": "code",
   "execution_count": 9,
   "outputs": [
    {
     "name": "stdout",
     "output_type": "stream",
     "text": [
      "Iterated over 15518009 examples (about 19.5 GB in 50.3s, i.e. 0.389 GB/s\n",
      "\n",
      "GPU NVIDIA GeForce RTX 3060\n",
      "memory occupied: 1.16GB\n",
      "Allocated GPU Memory: 0.00GB\n",
      "Reserved GPU Memory: 0.00GB\n"
     ]
    }
   ],
   "source": [
    "# Python의 timeit 모듈을 사용하여 batch_size가 1000일 때 데이터셋 조회 실행 시간을 측정\n",
    "\n",
    "wrapper.code_snippet = \"\"\"wrapper.batch_size = 1000\n",
    "\n",
    "for idx in range(0, len(wrapper.pubmed_dataset), wrapper.batch_size):\n",
    "    _ = wrapper.pubmed_dataset[idx:idx + wrapper.batch_size]\n",
    "\"\"\"\n",
    "\n",
    "wrapper.time = timeit.timeit(stmt = wrapper.code_snippet, number = 1, globals = globals())\n",
    "print(f\"Iterated over {len(wrapper.pubmed_dataset)} examples (about {wrapper.size_gb:.1f} GB in {wrapper.time:.1f}s, i.e. {wrapper.size_gb / wrapper.time:.3f} GB/s\")\n",
    "\n",
    "wrapper.pubmed_dataset.cleanup_cache_files()\n",
    "\n",
    "wrapper.init_wrapper()"
   ],
   "metadata": {
    "collapsed": false,
    "ExecuteTime": {
     "end_time": "2023-08-17T02:15:37.697003900Z",
     "start_time": "2023-08-17T02:14:47.186827400Z"
    }
   },
   "id": "9450065f12c332a6"
  },
  {
   "cell_type": "markdown",
   "source": [
    "## Streaming Datasets\n",
    "\n",
    "&#129303;Datasets는 전체 데이터셋을 다운로드할 필요없이 즉시 요소를 다운로드하고 액세스할 수 있는 스트리밍 기능을 제공한다.\n",
    "\n",
    "방법은 `streaming=True` 인수를 `load_dataset()`에 전달하기만 하면 된다.\n",
    "\n",
    "이때 반환되는 객체는 Dataset이 아니라 `IterableDataset`이다. 스트리밍된 데이터셋의 요소는 `IterableDataset.map()`을 사용하여 바로 처리할 수 있지만 요소에 액세스하려면 `next(iter(dataset))`과 같이 반복해야 한다.\n",
    "\n",
    "`IterableDataset.shuffle()`을 사용해 셔플링할 수도 있지만 `Dataset.shuffle()`과 달리 사전 정의된 `buffer_size` 인수만큼의 요소들만 먼저 셔플링한다. 반환된 IterableDataset의 다음값을 출력하면 버퍼가 다음 예제로 채워지고 셔플링한다.\n",
    "\n",
    "`IterableDataset.skip(n)`으로 처음 n개의 예제를 제외한 나머지 예제를 선택할 수 있고 `IterableDataset.take(n)`으로 처음 n개의 예제를 선택할 수 있다.\n",
    "\n",
    "또한 &#129303;Datasets는 IterableDataset 리스트를 하나의 IterableDataset으로 변환하는 `interleave_datasets()`함수를 제공한다."
   ],
   "metadata": {
    "collapsed": false
   },
   "id": "4a682890b4f48626"
  },
  {
   "cell_type": "code",
   "execution_count": 26,
   "outputs": [
    {
     "data": {
      "text/plain": "Resolving data files:   0%|          | 0/30 [00:00<?, ?it/s]",
      "application/vnd.jupyter.widget-view+json": {
       "version_major": 2,
       "version_minor": 0,
       "model_id": "b92d9095bbb54366a1bdff8a111fb543"
      }
     },
     "metadata": {},
     "output_type": "display_data"
    },
    {
     "name": "stdout",
     "output_type": "stream",
     "text": [
      "{'text': 'It is done, and submitted. You can play “Survival of the Tastiest” on Android, and on the web. Playing on the web works, but you have to simulate multi-touch for table moving and that can be a bit confusing.\\n\\nThere’s a lot I’d like to talk about. I’ll go through every topic, insted of making the typical what went right/wrong list.\\n\\nConcept\\n\\nWorking over the theme was probably one of the hardest tasks I had to face.\\n\\nOriginally, I had an idea of what kind of game I wanted to develop, gameplay wise – something with lots of enemies/actors, simple graphics, maybe set in space, controlled from a top-down view. I was confident I could fit any theme around it.\\n\\nIn the end, the problem with a theme like “Evolution” in a game is that evolution is unassisted. It happens through several seemingly random mutations over time, with the most apt permutation surviving. This genetic car simulator is, in my opinion, a great example of actual evolution of a species facing a challenge. But is it a game?\\n\\nIn a game, you need to control something to reach an objective. That control goes against what evolution is supposed to be like. If you allow the user to pick how to evolve something, it’s not evolution anymore – it’s the equivalent of intelligent design, the fable invented by creationists to combat the very idea of evolution. Being agnostic and a Pastafarian, that’s not something that rubbed me the right way.\\n\\nHence, my biggest dillema when deciding what to create was not with what I wanted to create, but with what I did not. I didn’t want to create an “intelligent design” simulator and wrongly call it evolution.\\n\\nThis is a problem, of course, every other contestant also had to face. And judging by the entries submitted, not many managed to work around it. I’d say the only real solution was through the use of artificial selection, somehow. So far, I haven’t seen any entry using this at its core gameplay.\\n\\nAlas, this is just a fun competition and after a while I decided not to be as strict with the game idea, and allowed myself to pick whatever I thought would work out.\\n\\nMy initial idea was to create something where humanity tried to evolve to a next level but had some kind of foe trying to stop them from doing so. I kind of had this image of human souls flying in space towards a monolith or a space baby (all based in 2001: A Space Odyssey of course) but I couldn’t think of compelling (read: serious) mechanics for that.\\n\\nBorgs were my next inspiration, as their whole hypothesis fit pretty well into the evolution theme. But how to make it work? Are you the borg, or fighting the Borg?\\n\\nThe third and final idea came to me through my girlfriend, who somehow gave me the idea of making something about the evolution of Pasta. The more I thought about it the more it sounded like it would work, so I decided to go with it.\\n\\nConversations with my inspiring co-worker Roushey (who also created the “Mechanical Underdogs” signature logo for my intros) further matured the concept, as it involved into the idea of having individual pieces of pasta flying around and trying to evolve until they became all-powerful. A secondary idea here was that the game would work to explain how the Flying Spaghetti Monster came to exist – by evolving from a normal dinner table.\\n\\nSo the idea evolved more or less into this: you are sitting a table. You have your own plate, with is your “base”. There are 5 other guests at the table, each with their own plate.\\n\\nYour plate can spawn little pieces of pasta. You do so by “ordering” them through a menu. Some pastas are better than others; some are faster, some are stronger. They have varying costs, which are debited from your credits (you start with a number of credits).\\n\\nOnce spawned, your pastas start flying around. Their instinct is to fly to other plates, in order to conquer them (the objective of the game is having your pasta conquer all the plates on the table). But they are really autonomous, so after being spawned, you have no control over your pasta (think DotA or LoL creeps).\\n\\nYour pasta doesn’t like other people’s pasta, so if they meet, they shoot sauce at each other until one dies. You get credits for other pastas your own pasta kill.\\n\\nOnce a pasta is in the vicinity of a plate, it starts conquering it for its team. It takes around 10 seconds for a plate to be conquered; less if more pasta from the same team are around. If pasta from other team are around, though, they get locked down in their attempt, unable to conquer the plate, until one of them die (think Battlefield’s standard “Conquest” mode).\\n\\nYou get points every second for every plate you own.\\n\\nOver time, the concept also evolved to use an Italian bistro as its main scenario.\\n\\nCarlos, Carlos’ Bistro’s founder and owner\\n\\nSetup\\n\\nNo major changes were made from my work setup. I used FDT and Starling creating an Adobe AIR (ActionScript) project, all tools or frameworks I already had some knowledge with.\\n\\nOne big change for me was that I livestreamed my work through a twitch.tv account. This was a new thing for me. As recommended by Roushey, I used a program called XSplit and I got to say, it is pretty amazing. It made the livestream pretty effortless and the features are awesome, even for the free version. It was great to have some of my friends watch me, and then interact with them and random people through chat. It was also good knowing that I was also recording a local version of the files, so I could make a timelapse video later.\\n\\nKnowing the video was being recorded also made me a lot more self-conscious about my computer use, as if someone was watching over my shoulder. It made me realize that sometimes I spend too much time in seemingly inane tasks (I ended up wasting the longest time just to get some text alignment the way I wanted – it’ll probably drive someone crazy if they watch it) and that I do way too many typos where writing code. I pretty much spend half of the time writing a line and the other half fixing the crazy characters in it.\\n\\nMy own stream was probably boring to watch since I was coding for the most time. But livestreaming is one of the cool things to do as a spectator too. It was great seeing other people working – I had a few tabs opened on my second monitor all the time. It’s actually a bit sad, because if I could, I could have spent the whole weekend just watching other people working! But I had to do my own work, so I’d only do it once in a while, when resting for a bit.\\n\\nDesign\\n\\nAlthough I wanted some simple, low-fi, high-contrast kind of design, I ended up going with somewhat realistic (vector) art. I think it worked very well, fitting the mood of the game, but I also went overboard.\\n\\nFor example: to know the state of a plate (who owns it, who’s conquering it and how much time they have left before conquering it, which pasta units are in the queue, etc), you have to look at the plate’s bill.\\n\\nThe problem I realized when doing some tests is that people never look at the bill! They think it’s some kind of prop, so they never actually read its details.\\n\\nPlus, if you’re zoomed out too much, you can’t actually read it, so it’s hard to know what’s going on with the game until you zoom in to the area of a specific plate.\\n\\nOne other solution that didn’t turn out to be as perfect as I thought was how to indicate who a plate base belongs to. In the game, that’s indicated by the plate’s decoration – its color denotes the team owner. But it’s something that fits so well into the design that people never realized it, until they were told about it.\\n\\nIn the end, the idea of going with a full physical metaphor is one that should be done with care. Things that are very important risk becoming background noise, unless the player knows its importance.\\n\\nOriginally, I wanted to avoid any kind of heads-up display in my game. In the end, I ended up adding it at the bottom to indicate your credits and bases owned, as well as the hideous out-of-place-and-still-not-obvious “Call Waiter” button. But in hindsight, I should have gone with a simple HUD from the start, especially one that indicated each team’s colors and general state of the game without the need for zooming in and out.\\n\\nDevelopment\\n\\nDevelopment went fast. But not fast enough.\\n\\nEven though I worked around 32+ hours for this Ludum Dare, the biggest problem I had to face in the end was overscoping. I had too much planned, and couldn’t get it all done.\\n\\nContent-wise, I had several kinds of pasta planned (Wikipedia is just amazing in that regard), split into several different groups, from small Pastina to huge Pasta al forno. But because of time constraints, I ended up scratching most of them, and ended up with 5 different types of very small pasta – barely something to start when talking about the evolution of Pasta.\\n\\nPastas used in the game. Unfortunately, the macs where never used\\n\\nWhich is one of the saddest things about the project, really. It had the framework and the features to allow an endless number of elements in there, but I just didn’t have time to draw the rest of the assets needed (something I loved to do, by the way).\\n\\nOther non-obvious features had to be dropped, too. For example, when ordering some pasta, you were supposed to select what kind of sauce you’d like with your pasta, each with different attributes. Bolognese, for example, is very strong, but inaccurate; Pesto is very accurate and has great range, but it’s weaker; and my favorite, Vodka, would triggers 10% loss of speed on the pasta hit by it.\\n\\nThe code for that is mostly in there. But in the end, I didn’t have time to implement the sauce selection interface; all pasta ended up using bolognese sauce.\\n\\nTo-do list: lots of things were not done\\n\\nActual programming also took a toll in the development time. Having been programming for a while, I like to believe I got to a point where I know how to make things right, but at the expense of forgetting how to do things wrong in a seemingly good way. What I mean is that I had to take a lot of shortcuts in my code to save time (e.g. a lot of singletons references for cross-communication rather than events or observers, all-encompassing check loops, not fast enough) that left a very sour taste in my mouth. While I know I used to do those a few years ago and survive, I almost cannot accept the state my code is in right now.\\n\\nAt the same time, I do know it was the right thing to do given the timeframe.\\n\\nOne small thing that had some impact was using a somewhat new platform for me. That’s Starling, the accelerated graphics framework I used in Flash. I had tested it before and I knew how to use it well – the API is very similar to Flash itself. However, there were some small details that had some impact during development, making me feel somewhat uneasy the whole time I was writing the game. It was, again, the right thing to do, but I should have used Starling more deeply before (which is the conundrum: I used it for Ludum Dare just so I could learn more about it).\\n\\nArgument and user experience\\n\\nOne final aspect of the game that I learned is that making the game obvious for your players goes a long way into making it fun. If you have to spend the longest time explaining things, your game is doing something wrong.\\n\\nAnd that’s exactly the problem Survival of the Tastiest ultimately faced. It’s very hard for people to understand what’s going on with the game, why, and how. I did have some introductory text at the beginning, but that was a last-minute thing. More importantly, I should have had a better interface or simplified the whole concept so it would be easier for people to understand.\\n\\nThat doesn’t mean the game itself should be simple. It just means that the experience and interface should be approachable and understandable.\\n\\nConclusion\\n\\nI’m extremely happy with what I’ve done and, especially given that this was my first Ludum Dare. However, I feel like I’ve learned a lot of what not to do.\\n\\nThe biggest problem is overscoping. Like Eric Decker said, the biggest lesson we can learn with this is probably with scoping – deciding what to do beforehand in a way you can complete it without having to rush and do something half-assed.\\n\\nI’m sure I will do more Ludum Dares in the future. But if there are any lessons I can take of it, they are to make it simple, to use frameworks and platforms you already have some absolute experience with (otherwise you’ll spend too much time trying to solve easy questions), and to scope for a game that you can complete in one day only (that way, you can actually take two days and make it cool).\\n\\nThis entry was posted\\non Monday, August 27th, 2012 at 10:54 am and is filed under LD #24.\\nYou can follow any responses to this entry through the RSS 2.0 feed.\\nYou can skip to the end and leave a response. Pinging is currently not allowed.\\n\\n3 Responses to ““Survival of the Tastiest” Post-mortem”\\n\\ndarn it , knowing that I missed your livestream makes me a sad panda ;( but more to the point, the game is … well for a startup its original to say the least ;D it has some really neat ideas and more importantly its designed arround touch screens whitch by the looks of the submission is something rare ;o or that could be just me and my short memory -_-! awesum game, love et <3', 'meta': {'pile_set_name': 'Pile-CC'}}\n",
      "{'train': <datasets.iterable_dataset.IterableDataset object at 0x7f39b6547370>, 'validation': <datasets.iterable_dataset.IterableDataset object at 0x7f39c2975190>, 'test': <datasets.iterable_dataset.IterableDataset object at 0x7f39b7a9af40>}\n"
     ]
    }
   ],
   "source": [
    "wrapper.base_url = \"https://the-eye.eu/public/AI/pile\"\n",
    "wrapper.data_files = {\n",
    "    \"train\": [f\"{wrapper.base_url}/train/{idx:02d}.jsonl.zst\" for idx in range(30)],\n",
    "    \"validation\": f\"{wrapper.base_url}/val.jsonl.zst\",\n",
    "    \"test\": f\"{wrapper.base_url}/test.jsonl.zst\"\n",
    "}\n",
    "wrapper.pile_dataset = load_dataset(\"json\", data_files = wrapper.data_files, streaming = True)\n",
    "print(next(iter(wrapper.pile_dataset[\"train\"])))\n",
    "print(wrapper.pile_dataset)"
   ],
   "metadata": {
    "collapsed": false,
    "ExecuteTime": {
     "end_time": "2023-08-17T04:01:13.681687100Z",
     "start_time": "2023-08-17T04:00:17.359817Z"
    }
   },
   "id": "a5be8da4342d024a"
  },
  {
   "cell_type": "code",
   "execution_count": 27,
   "outputs": [
    {
     "name": "stdout",
     "output_type": "stream",
     "text": [
      "shuffle 후 next(iter()) 값이 셔플됨\n"
     ]
    }
   ],
   "source": [
    "# shuffle\n",
    "wrapper.buffer_size = 1000\n",
    "wrapper.shuffled_pile_dataset = wrapper.pile_dataset.shuffle(buffer_size = wrapper.buffer_size, seed = 42)\n",
    "\n",
    "def compare(shuffled_data: IterableDatasetDict, pile_data: IterableDatasetDict) -> bool:\n",
    "    if shuffled_data[\"text\"] != pile_data[\"text\"]:\n",
    "        return False\n",
    "    \n",
    "    features1 = sorted(shuffled_data[\"meta\"].features.items(), key = lambda x: x[0])\n",
    "    features2 = sorted(pile_data[\"meta\"].features.items(), key = lambda x: x[0])\n",
    "    \n",
    "    for f1, f2 in zip(features1, features2):\n",
    "        if f1 != f2:\n",
    "            return False\n",
    "    \n",
    "    return True\n",
    "\n",
    "if compare(next(iter(wrapper.shuffled_pile_dataset[\"train\"].skip(wrapper.buffer_size))),\n",
    "           next(iter(wrapper.pile_dataset[\"train\"].skip(wrapper.buffer_size)))):\n",
    "    print(\"shuffle 후 next(iter()) 값이 셔플되지 않음\")\n",
    "else:\n",
    "    print(\"shuffle 후 next(iter()) 값이 셔플됨\")"
   ],
   "metadata": {
    "collapsed": false,
    "ExecuteTime": {
     "end_time": "2023-08-17T04:02:09.644893900Z",
     "start_time": "2023-08-17T04:01:13.681687100Z"
    }
   },
   "id": "5297d9d54bac8b7e"
  },
  {
   "cell_type": "code",
   "execution_count": 28,
   "outputs": [
    {
     "name": "stderr",
     "output_type": "stream",
     "text": [
      "Token indices sequence length is longer than the specified maximum sequence length for this model (3008 > 512). Running this sequence through the model will result in indexing errors\n"
     ]
    },
    {
     "data": {
      "text/plain": "dict_keys(['text', 'meta', 'input_ids', 'attention_mask'])"
     },
     "execution_count": 28,
     "metadata": {},
     "output_type": "execute_result"
    }
   ],
   "source": [
    "wrapper.tokenizer = AutoTokenizer.from_pretrained(\"distilbert-base-uncased\")\n",
    "\n",
    "# default batch_size = 1000 if batched=True\n",
    "wrapper.tokenized_dataset = wrapper.pile_dataset[\"train\"].map(lambda x: wrapper.tokenizer(x[\"text\"]), batched = True, batch_size = 10000)\n",
    "next(iter(wrapper.tokenized_dataset)).keys()"
   ],
   "metadata": {
    "collapsed": false,
    "ExecuteTime": {
     "end_time": "2023-08-17T04:04:37.534754400Z",
     "start_time": "2023-08-17T04:02:09.647127Z"
    }
   },
   "id": "d97685b831560782"
  },
  {
   "cell_type": "code",
   "execution_count": 29,
   "outputs": [
    {
     "name": "stdout",
     "output_type": "stream",
     "text": [
      "[{'text': 'It is done, and submitted. You can play “Survival of the Tastiest” on Android, and on the web. Playing on the web works, but you have to simulate multi-touch for table moving and that can be a bit confusing.\\n\\nThere’s a lot I’d like to talk about. I’ll go through every topic, insted of making the typical what went right/wrong list.\\n\\nConcept\\n\\nWorking over the theme was probably one of the hardest tasks I had to face.\\n\\nOriginally, I had an idea of what kind of game I wanted to develop, gameplay wise – something with lots of enemies/actors, simple graphics, maybe set in space, controlled from a top-down view. I was confident I could fit any theme around it.\\n\\nIn the end, the problem with a theme like “Evolution” in a game is that evolution is unassisted. It happens through several seemingly random mutations over time, with the most apt permutation surviving. This genetic car simulator is, in my opinion, a great example of actual evolution of a species facing a challenge. But is it a game?\\n\\nIn a game, you need to control something to reach an objective. That control goes against what evolution is supposed to be like. If you allow the user to pick how to evolve something, it’s not evolution anymore – it’s the equivalent of intelligent design, the fable invented by creationists to combat the very idea of evolution. Being agnostic and a Pastafarian, that’s not something that rubbed me the right way.\\n\\nHence, my biggest dillema when deciding what to create was not with what I wanted to create, but with what I did not. I didn’t want to create an “intelligent design” simulator and wrongly call it evolution.\\n\\nThis is a problem, of course, every other contestant also had to face. And judging by the entries submitted, not many managed to work around it. I’d say the only real solution was through the use of artificial selection, somehow. So far, I haven’t seen any entry using this at its core gameplay.\\n\\nAlas, this is just a fun competition and after a while I decided not to be as strict with the game idea, and allowed myself to pick whatever I thought would work out.\\n\\nMy initial idea was to create something where humanity tried to evolve to a next level but had some kind of foe trying to stop them from doing so. I kind of had this image of human souls flying in space towards a monolith or a space baby (all based in 2001: A Space Odyssey of course) but I couldn’t think of compelling (read: serious) mechanics for that.\\n\\nBorgs were my next inspiration, as their whole hypothesis fit pretty well into the evolution theme. But how to make it work? Are you the borg, or fighting the Borg?\\n\\nThe third and final idea came to me through my girlfriend, who somehow gave me the idea of making something about the evolution of Pasta. The more I thought about it the more it sounded like it would work, so I decided to go with it.\\n\\nConversations with my inspiring co-worker Roushey (who also created the “Mechanical Underdogs” signature logo for my intros) further matured the concept, as it involved into the idea of having individual pieces of pasta flying around and trying to evolve until they became all-powerful. A secondary idea here was that the game would work to explain how the Flying Spaghetti Monster came to exist – by evolving from a normal dinner table.\\n\\nSo the idea evolved more or less into this: you are sitting a table. You have your own plate, with is your “base”. There are 5 other guests at the table, each with their own plate.\\n\\nYour plate can spawn little pieces of pasta. You do so by “ordering” them through a menu. Some pastas are better than others; some are faster, some are stronger. They have varying costs, which are debited from your credits (you start with a number of credits).\\n\\nOnce spawned, your pastas start flying around. Their instinct is to fly to other plates, in order to conquer them (the objective of the game is having your pasta conquer all the plates on the table). But they are really autonomous, so after being spawned, you have no control over your pasta (think DotA or LoL creeps).\\n\\nYour pasta doesn’t like other people’s pasta, so if they meet, they shoot sauce at each other until one dies. You get credits for other pastas your own pasta kill.\\n\\nOnce a pasta is in the vicinity of a plate, it starts conquering it for its team. It takes around 10 seconds for a plate to be conquered; less if more pasta from the same team are around. If pasta from other team are around, though, they get locked down in their attempt, unable to conquer the plate, until one of them die (think Battlefield’s standard “Conquest” mode).\\n\\nYou get points every second for every plate you own.\\n\\nOver time, the concept also evolved to use an Italian bistro as its main scenario.\\n\\nCarlos, Carlos’ Bistro’s founder and owner\\n\\nSetup\\n\\nNo major changes were made from my work setup. I used FDT and Starling creating an Adobe AIR (ActionScript) project, all tools or frameworks I already had some knowledge with.\\n\\nOne big change for me was that I livestreamed my work through a twitch.tv account. This was a new thing for me. As recommended by Roushey, I used a program called XSplit and I got to say, it is pretty amazing. It made the livestream pretty effortless and the features are awesome, even for the free version. It was great to have some of my friends watch me, and then interact with them and random people through chat. It was also good knowing that I was also recording a local version of the files, so I could make a timelapse video later.\\n\\nKnowing the video was being recorded also made me a lot more self-conscious about my computer use, as if someone was watching over my shoulder. It made me realize that sometimes I spend too much time in seemingly inane tasks (I ended up wasting the longest time just to get some text alignment the way I wanted – it’ll probably drive someone crazy if they watch it) and that I do way too many typos where writing code. I pretty much spend half of the time writing a line and the other half fixing the crazy characters in it.\\n\\nMy own stream was probably boring to watch since I was coding for the most time. But livestreaming is one of the cool things to do as a spectator too. It was great seeing other people working – I had a few tabs opened on my second monitor all the time. It’s actually a bit sad, because if I could, I could have spent the whole weekend just watching other people working! But I had to do my own work, so I’d only do it once in a while, when resting for a bit.\\n\\nDesign\\n\\nAlthough I wanted some simple, low-fi, high-contrast kind of design, I ended up going with somewhat realistic (vector) art. I think it worked very well, fitting the mood of the game, but I also went overboard.\\n\\nFor example: to know the state of a plate (who owns it, who’s conquering it and how much time they have left before conquering it, which pasta units are in the queue, etc), you have to look at the plate’s bill.\\n\\nThe problem I realized when doing some tests is that people never look at the bill! They think it’s some kind of prop, so they never actually read its details.\\n\\nPlus, if you’re zoomed out too much, you can’t actually read it, so it’s hard to know what’s going on with the game until you zoom in to the area of a specific plate.\\n\\nOne other solution that didn’t turn out to be as perfect as I thought was how to indicate who a plate base belongs to. In the game, that’s indicated by the plate’s decoration – its color denotes the team owner. But it’s something that fits so well into the design that people never realized it, until they were told about it.\\n\\nIn the end, the idea of going with a full physical metaphor is one that should be done with care. Things that are very important risk becoming background noise, unless the player knows its importance.\\n\\nOriginally, I wanted to avoid any kind of heads-up display in my game. In the end, I ended up adding it at the bottom to indicate your credits and bases owned, as well as the hideous out-of-place-and-still-not-obvious “Call Waiter” button. But in hindsight, I should have gone with a simple HUD from the start, especially one that indicated each team’s colors and general state of the game without the need for zooming in and out.\\n\\nDevelopment\\n\\nDevelopment went fast. But not fast enough.\\n\\nEven though I worked around 32+ hours for this Ludum Dare, the biggest problem I had to face in the end was overscoping. I had too much planned, and couldn’t get it all done.\\n\\nContent-wise, I had several kinds of pasta planned (Wikipedia is just amazing in that regard), split into several different groups, from small Pastina to huge Pasta al forno. But because of time constraints, I ended up scratching most of them, and ended up with 5 different types of very small pasta – barely something to start when talking about the evolution of Pasta.\\n\\nPastas used in the game. Unfortunately, the macs where never used\\n\\nWhich is one of the saddest things about the project, really. It had the framework and the features to allow an endless number of elements in there, but I just didn’t have time to draw the rest of the assets needed (something I loved to do, by the way).\\n\\nOther non-obvious features had to be dropped, too. For example, when ordering some pasta, you were supposed to select what kind of sauce you’d like with your pasta, each with different attributes. Bolognese, for example, is very strong, but inaccurate; Pesto is very accurate and has great range, but it’s weaker; and my favorite, Vodka, would triggers 10% loss of speed on the pasta hit by it.\\n\\nThe code for that is mostly in there. But in the end, I didn’t have time to implement the sauce selection interface; all pasta ended up using bolognese sauce.\\n\\nTo-do list: lots of things were not done\\n\\nActual programming also took a toll in the development time. Having been programming for a while, I like to believe I got to a point where I know how to make things right, but at the expense of forgetting how to do things wrong in a seemingly good way. What I mean is that I had to take a lot of shortcuts in my code to save time (e.g. a lot of singletons references for cross-communication rather than events or observers, all-encompassing check loops, not fast enough) that left a very sour taste in my mouth. While I know I used to do those a few years ago and survive, I almost cannot accept the state my code is in right now.\\n\\nAt the same time, I do know it was the right thing to do given the timeframe.\\n\\nOne small thing that had some impact was using a somewhat new platform for me. That’s Starling, the accelerated graphics framework I used in Flash. I had tested it before and I knew how to use it well – the API is very similar to Flash itself. However, there were some small details that had some impact during development, making me feel somewhat uneasy the whole time I was writing the game. It was, again, the right thing to do, but I should have used Starling more deeply before (which is the conundrum: I used it for Ludum Dare just so I could learn more about it).\\n\\nArgument and user experience\\n\\nOne final aspect of the game that I learned is that making the game obvious for your players goes a long way into making it fun. If you have to spend the longest time explaining things, your game is doing something wrong.\\n\\nAnd that’s exactly the problem Survival of the Tastiest ultimately faced. It’s very hard for people to understand what’s going on with the game, why, and how. I did have some introductory text at the beginning, but that was a last-minute thing. More importantly, I should have had a better interface or simplified the whole concept so it would be easier for people to understand.\\n\\nThat doesn’t mean the game itself should be simple. It just means that the experience and interface should be approachable and understandable.\\n\\nConclusion\\n\\nI’m extremely happy with what I’ve done and, especially given that this was my first Ludum Dare. However, I feel like I’ve learned a lot of what not to do.\\n\\nThe biggest problem is overscoping. Like Eric Decker said, the biggest lesson we can learn with this is probably with scoping – deciding what to do beforehand in a way you can complete it without having to rush and do something half-assed.\\n\\nI’m sure I will do more Ludum Dares in the future. But if there are any lessons I can take of it, they are to make it simple, to use frameworks and platforms you already have some absolute experience with (otherwise you’ll spend too much time trying to solve easy questions), and to scope for a game that you can complete in one day only (that way, you can actually take two days and make it cool).\\n\\nThis entry was posted\\non Monday, August 27th, 2012 at 10:54 am and is filed under LD #24.\\nYou can follow any responses to this entry through the RSS 2.0 feed.\\nYou can skip to the end and leave a response. Pinging is currently not allowed.\\n\\n3 Responses to ““Survival of the Tastiest” Post-mortem”\\n\\ndarn it , knowing that I missed your livestream makes me a sad panda ;( but more to the point, the game is … well for a startup its original to say the least ;D it has some really neat ideas and more importantly its designed arround touch screens whitch by the looks of the submission is something rare ;o or that could be just me and my short memory -_-! awesum game, love et <3', 'meta': {'pile_set_name': 'Pile-CC'}}, {'text': 'Roman Catholic Diocese of Tambacounda\\n\\nThe Roman Catholic Diocese of Tambacounda () is a diocese located in the city of Tambacounda in the Ecclesiastical province of Dakar in Senegal.\\n\\nHistory\\n August 13, 1970: Established as Apostolic Prefecture of Tambacounda from the Diocese of Kaolack and Diocese of Saint-Louis du Sénégal\\n April 17, 1989: Promoted as Diocese of Tambacounda\\n\\nSpecial churches\\n The cathedral is Cathédrale Marie Reine de l’Univers in Tambacounda, which is located in the Medina Coura neighborhood of the town.\\n\\nLeadership\\n Bishops of Tambacounda (Roman rite)\\n Bishop Jean-Noël Diouf (since 1989.04.17)\\n Prefects Apostolic of Tambacounda (Roman rite) \\n Fr. Clément Cailleau, C.S.Sp. (1970.08.13 – 1986.04.24)\\n\\nSee also\\nRoman Catholicism in Senegal\\n\\nReferences\\n\\nExternal links\\n GCatholic.org\\n Catholic Hierarchy \\n\\nCategory:Roman Catholic dioceses in Senegal\\nCategory:Tambacounda\\nCategory:Christian organizations established in 1970\\nCategory:Roman Catholic dioceses and prelatures established in the 20th century', 'meta': {'pile_set_name': 'Wikipedia (en)'}}]\n",
      "\n",
      "GPU NVIDIA GeForce RTX 3060\n",
      "memory occupied: 1.22GB\n",
      "Allocated GPU Memory: 0.00GB\n",
      "Reserved GPU Memory: 0.00GB\n"
     ]
    }
   ],
   "source": [
    "# interleave_datasets로 결합하기\n",
    "wrapper.combined_dataset = interleave_datasets(\n",
    "    [wrapper.pile_dataset[\"train\"].take(10),\n",
    "     wrapper.pile_dataset[\"test\"].take(10)]\n",
    ")\n",
    "print(list(islice(wrapper.combined_dataset, 2)))\n",
    "\n",
    "del compare\n",
    "wrapper.init_wrapper()"
   ],
   "metadata": {
    "collapsed": false,
    "ExecuteTime": {
     "end_time": "2023-08-17T04:05:59.849826200Z",
     "start_time": "2023-08-17T04:04:37.532745800Z"
    }
   },
   "id": "6013d0d5b453b3be"
  }
 ],
 "metadata": {
  "kernelspec": {
   "display_name": "Python 3",
   "language": "python",
   "name": "python3"
  },
  "language_info": {
   "codemirror_mode": {
    "name": "ipython",
    "version": 2
   },
   "file_extension": ".py",
   "mimetype": "text/x-python",
   "name": "python",
   "nbconvert_exporter": "python",
   "pygments_lexer": "ipython2",
   "version": "2.7.6"
  }
 },
 "nbformat": 4,
 "nbformat_minor": 5
}
