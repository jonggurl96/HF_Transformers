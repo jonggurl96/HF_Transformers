{
 "cells": [
  {
   "cell_type": "markdown",
   "source": [
    "# 요약, Summarization\n",
    "- [강좌링크](https://wikidocs.net/166831)\n",
    "\n",
    "가장 어려운 NLP 작업 중 하나\n",
    "\n",
    "[aihub 도서자료 요약 데이터셋](https://www.aihub.or.kr/aihubdata/data/view.do?currMenu=115&topMenu=100&aihubDataSe=realm&dataSetSn=93) 사용\n",
    "- datas/KoT5\n",
    "    - 도서자료 요약\n",
    "        - Training\n",
    "            - [원천]도서요약_train.zip\n",
    "                - 기술과학\n",
    "                    - *.json\n",
    "                - 기타\n",
    "                    - *.json\n",
    "                - 사회과학\n",
    "                    - *.json\n",
    "                - 예술\n",
    "                    - *.json\n",
    "        - Validation\n",
    "            - [원천]도서요약_valid.zip\n",
    "                - 기술과학\n",
    "                    - *.json\n",
    "                - 기타\n",
    "                    - *.json\n",
    "                - 사회과학\n",
    "                    - *.json\n",
    "                - 예술\n",
    "                    - *.json\n",
    "\n"
   ],
   "metadata": {
    "collapsed": false
   },
   "id": "dbb3de35aee3c069"
  },
  {
   "cell_type": "markdown",
   "source": [
    "# Preprocess\n",
    "\n",
    "모든 json 파일 읽어서 한 csv 파일로 저장\n",
    "\n",
    "###### columns\n",
    "passage > review_body\n",
    "summary > review_title"
   ],
   "metadata": {
    "collapsed": false
   },
   "id": "15df692694c58dfc"
  },
  {
   "cell_type": "code",
   "execution_count": 1,
   "outputs": [
    {
     "name": "stdout",
     "output_type": "stream",
     "text": [
      ">>> ../../datas/KoT5/도서자료 요약/Training/[원천]도서요약_train/기술과학 ...\n"
     ]
    },
    {
     "data": {
      "text/plain": "  0%|          | 0/23918 [00:00<?, ?it/s]",
      "application/vnd.jupyter.widget-view+json": {
       "version_major": 2,
       "version_minor": 0,
       "model_id": "f740d8afa8044a949e4909ace81c6de9"
      }
     },
     "metadata": {},
     "output_type": "display_data"
    },
    {
     "name": "stdout",
     "output_type": "stream",
     "text": [
      ">>> ../../datas/KoT5/도서자료 요약/Training/[원천]도서요약_train/기타 ...\n"
     ]
    },
    {
     "data": {
      "text/plain": "  0%|          | 0/6753 [00:00<?, ?it/s]",
      "application/vnd.jupyter.widget-view+json": {
       "version_major": 2,
       "version_minor": 0,
       "model_id": "6425bb2e81474e6fa29cb3620528e6aa"
      }
     },
     "metadata": {},
     "output_type": "display_data"
    },
    {
     "name": "stdout",
     "output_type": "stream",
     "text": [
      ">>> ../../datas/KoT5/도서자료 요약/Training/[원천]도서요약_train/사회과학 ...\n"
     ]
    },
    {
     "data": {
      "text/plain": "  0%|          | 0/115440 [00:00<?, ?it/s]",
      "application/vnd.jupyter.widget-view+json": {
       "version_major": 2,
       "version_minor": 0,
       "model_id": "c360f8bb35464263a53bc458373c570e"
      }
     },
     "metadata": {},
     "output_type": "display_data"
    },
    {
     "name": "stdout",
     "output_type": "stream",
     "text": [
      ">>> ../../datas/KoT5/도서자료 요약/Training/[원천]도서요약_train/예술 ...\n"
     ]
    },
    {
     "data": {
      "text/plain": "  0%|          | 0/13891 [00:00<?, ?it/s]",
      "application/vnd.jupyter.widget-view+json": {
       "version_major": 2,
       "version_minor": 0,
       "model_id": "7d310990f9bb40d3b8f1b2a4d497ec04"
      }
     },
     "metadata": {},
     "output_type": "display_data"
    },
    {
     "name": "stdout",
     "output_type": "stream",
     "text": [
      ">>> ../../datas/KoT5/도서자료 요약/Validation/[원천]도서요약_valid/기술과학 ...\n"
     ]
    },
    {
     "data": {
      "text/plain": "  0%|          | 0/2989 [00:00<?, ?it/s]",
      "application/vnd.jupyter.widget-view+json": {
       "version_major": 2,
       "version_minor": 0,
       "model_id": "3d46ff37c7f443e5bdcda44cfc777dff"
      }
     },
     "metadata": {},
     "output_type": "display_data"
    },
    {
     "name": "stdout",
     "output_type": "stream",
     "text": [
      ">>> ../../datas/KoT5/도서자료 요약/Validation/[원천]도서요약_valid/기타 ...\n"
     ]
    },
    {
     "data": {
      "text/plain": "  0%|          | 0/844 [00:00<?, ?it/s]",
      "application/vnd.jupyter.widget-view+json": {
       "version_major": 2,
       "version_minor": 0,
       "model_id": "f157cba00ff74a63bcffc65af8be45db"
      }
     },
     "metadata": {},
     "output_type": "display_data"
    },
    {
     "name": "stdout",
     "output_type": "stream",
     "text": [
      ">>> ../../datas/KoT5/도서자료 요약/Validation/[원천]도서요약_valid/사회과학 ...\n"
     ]
    },
    {
     "data": {
      "text/plain": "  0%|          | 0/14430 [00:00<?, ?it/s]",
      "application/vnd.jupyter.widget-view+json": {
       "version_major": 2,
       "version_minor": 0,
       "model_id": "c4d37650cbe84573b6eafa4b420f10bf"
      }
     },
     "metadata": {},
     "output_type": "display_data"
    },
    {
     "name": "stdout",
     "output_type": "stream",
     "text": [
      ">>> ../../datas/KoT5/도서자료 요약/Validation/[원천]도서요약_valid/예술 ...\n"
     ]
    },
    {
     "data": {
      "text/plain": "  0%|          | 0/1736 [00:00<?, ?it/s]",
      "application/vnd.jupyter.widget-view+json": {
       "version_major": 2,
       "version_minor": 0,
       "model_id": "6e6b960ec0804a24888b7309298e950d"
      }
     },
     "metadata": {},
     "output_type": "display_data"
    }
   ],
   "source": [
    "from tqdm.auto import tqdm\n",
    "import json, os, re\n",
    "import pandas as pd\n",
    "\n",
    "base_dir = \"../../datas/KoT5/도서자료 요약\"\n",
    "training_dir = f\"{base_dir}/Training/[원천]도서요약_train\"\n",
    "valid_dir = f\"{base_dir}/Validation/[원천]도서요약_valid\"\n",
    "sub_dirs = [\"기술과학\", \"기타\", \"사회과학\", \"예술\"]\n",
    "\n",
    "def make_dataset(root_dir: str, output_file_name: str) -> None:\n",
    "    column_names = [\"review_title\", \"review_body\"]\n",
    "    row_data = []\n",
    "    \n",
    "    for sub_dir in sub_dirs:\n",
    "        json_dir = f\"{root_dir}/{sub_dir}\"\n",
    "        print(f\">>> {json_dir} ...\")\n",
    "        \n",
    "        json_files = [json_file for json_file in os.listdir(json_dir) if json_file.endswith(\".json\")]\n",
    "        progress_bar = tqdm(range(len(json_files)))\n",
    "        \n",
    "        for json_file in json_files:\n",
    "            with open(f\"{json_dir}/{json_file}\", \"r\") as jp:\n",
    "                review = json.load(jp)\n",
    "            summary = review[\"summary\"].replace(\"\\t\", \"\").strip()\n",
    "            passage = review[\"passage\"].replace(\"\\t\", \"\").strip()\n",
    "            row_data.append((summary, passage))\n",
    "            progress_bar.update(1)\n",
    "    \n",
    "    dataset = pd.DataFrame.from_records(row_data, columns = column_names)\n",
    "    dataset.to_json(output_file_name, orient = \"records\")\n",
    "\n",
    "make_dataset(training_dir, \"../../datas/KoT5/train_dataset.json\")\n",
    "make_dataset(valid_dir, \"../../datas/KoT5/valid_dataset.json\")"
   ],
   "metadata": {
    "collapsed": false,
    "ExecuteTime": {
     "end_time": "2023-08-30T00:48:32.960583300Z",
     "start_time": "2023-08-29T23:30:12.041742800Z"
    }
   },
   "id": "3c51d425900a1ce"
  },
  {
   "cell_type": "code",
   "execution_count": 2,
   "outputs": [
    {
     "data": {
      "text/plain": "Downloading data files:   0%|          | 0/2 [00:00<?, ?it/s]",
      "application/vnd.jupyter.widget-view+json": {
       "version_major": 2,
       "version_minor": 0,
       "model_id": "4052bb08c5db4b14811bf198ac1ba74c"
      }
     },
     "metadata": {},
     "output_type": "display_data"
    },
    {
     "data": {
      "text/plain": "Extracting data files:   0%|          | 0/2 [00:00<?, ?it/s]",
      "application/vnd.jupyter.widget-view+json": {
       "version_major": 2,
       "version_minor": 0,
       "model_id": "0e11f53309054db0990bb1171e087925"
      }
     },
     "metadata": {},
     "output_type": "display_data"
    },
    {
     "data": {
      "text/plain": "Generating train split: 0 examples [00:00, ? examples/s]",
      "application/vnd.jupyter.widget-view+json": {
       "version_major": 2,
       "version_minor": 0,
       "model_id": "25835bb2668044f09fe13c58f49fce67"
      }
     },
     "metadata": {},
     "output_type": "display_data"
    },
    {
     "data": {
      "text/plain": "Generating validation split: 0 examples [00:00, ? examples/s]",
      "application/vnd.jupyter.widget-view+json": {
       "version_major": 2,
       "version_minor": 0,
       "model_id": "8378f5aff5e84e389e1f2182adf6b63d"
      }
     },
     "metadata": {},
     "output_type": "display_data"
    },
    {
     "data": {
      "text/plain": "DatasetDict({\n    train: Dataset({\n        features: ['review_body', 'review_title'],\n        num_rows: 160002\n    })\n    validation: Dataset({\n        features: ['review_body', 'review_title'],\n        num_rows: 19999\n    })\n})"
     },
     "execution_count": 2,
     "metadata": {},
     "output_type": "execute_result"
    }
   ],
   "source": [
    "from datasets import load_dataset\n",
    "data_files = {\n",
    "        \"train\": \"../../datas/KoT5/train_dataset.json\",\n",
    "        \"validation\": \"../../datas/KoT5/valid_dataset.json\"\n",
    "}\n",
    "datasets = load_dataset(\"json\", data_files = data_files)\n",
    "datasets"
   ],
   "metadata": {
    "collapsed": false,
    "ExecuteTime": {
     "end_time": "2023-08-30T00:49:20.287151300Z",
     "start_time": "2023-08-30T00:48:41.652099400Z"
    }
   },
   "id": "f7a9a5e93317f925"
  },
  {
   "cell_type": "code",
   "execution_count": 6,
   "outputs": [
    {
     "data": {
      "text/plain": "{'review_body': '지금의 국가가 직면하는 위기는 전통사회의 그것과 위기의 규모뿐만아니라 종류와 성질 면에서 사뭇 다르다고 할 수 있다. 즉 현대 사회에서는 매우 다양하고 광범위하게 위기가 발생할 뿐만 아니라 지구온난화에 따른 각종 자연재해로부터 인위적 재난인 사회적 이슈로 인한 위기에 이르기까지 복잡한 양상을 보이고 있다. 따라서 위기의 영향은 한 산업뿐만 아니라 국가의 재난으로 이어지는 경우가 많다. 따라서 국가는 이러한 위기상황이 발생하였을 경우에 그 징후를 빨리 파악하고 대응하지 않으면 안 되는데, 국민의 생명과 재산을 보호하는 것이 바로 국가의 가장 기본적인 의무이기 때문이다.',\n 'review_title': '현대 사회에서 발생하는 다양하고 복잡한 위기는 과거와 다르게 국가의 재난으로 이어질 수 있으므로 국가의 신속한 대책 능력이 필요하다.'}"
     },
     "execution_count": 6,
     "metadata": {},
     "output_type": "execute_result"
    }
   ],
   "source": [
    "datasets[\"train\"][0]"
   ],
   "metadata": {
    "collapsed": false,
    "ExecuteTime": {
     "end_time": "2023-08-30T00:50:52.009451900Z",
     "start_time": "2023-08-30T00:50:52.005451800Z"
    }
   },
   "id": "505cb00ac0b55ead"
  },
  {
   "cell_type": "code",
   "execution_count": null,
   "outputs": [],
   "source": [],
   "metadata": {
    "collapsed": false
   },
   "id": "9785c01df7e8bcff"
  }
 ],
 "metadata": {
  "kernelspec": {
   "display_name": "Python 3",
   "language": "python",
   "name": "python3"
  },
  "language_info": {
   "codemirror_mode": {
    "name": "ipython",
    "version": 2
   },
   "file_extension": ".py",
   "mimetype": "text/x-python",
   "name": "python",
   "nbconvert_exporter": "python",
   "pygments_lexer": "ipython2",
   "version": "2.7.6"
  }
 },
 "nbformat": 4,
 "nbformat_minor": 5
}
