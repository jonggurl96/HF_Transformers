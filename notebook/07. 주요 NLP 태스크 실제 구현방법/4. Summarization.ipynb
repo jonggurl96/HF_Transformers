{
 "cells": [
  {
   "cell_type": "markdown",
   "source": [
    "# 요약, Summarization\n",
    "- [강좌링크](https://wikidocs.net/166831)\n",
    "\n",
    "가장 어려운 NLP 작업 중 하나\n",
    "\n",
    "[aihub 도서자료 요약 데이터셋](https://www.aihub.or.kr/aihubdata/data/view.do?currMenu=115&topMenu=100&aihubDataSe=realm&dataSetSn=93) 사용\n",
    "- datas/KoT5\n",
    "    - 도서자료 요약\n",
    "        - Training\n",
    "            - [원천]도서요약_train.zip\n",
    "                - 기술과학\n",
    "                    - *.json\n",
    "                - 기타\n",
    "                    - *.json\n",
    "                - 사회과학\n",
    "                    - *.json\n",
    "                - 예술\n",
    "                    - *.json\n",
    "        - Validation\n",
    "            - [원천]도서요약_valid.zip\n",
    "                - 기술과학\n",
    "                    - *.json\n",
    "                - 기타\n",
    "                    - *.json\n",
    "                - 사회과학\n",
    "                    - *.json\n",
    "                - 예술\n",
    "                    - *.json\n",
    "\n"
   ],
   "metadata": {
    "collapsed": false
   },
   "id": "dbb3de35aee3c069"
  },
  {
   "cell_type": "markdown",
   "source": [
    "# Preprocess\n",
    "\n",
    "모든 json 파일 읽어서 한 csv 파일로 저장\n",
    "\n",
    "###### columns\n",
    "passage > review_body\n",
    "summary > review_title"
   ],
   "metadata": {
    "collapsed": false
   },
   "id": "15df692694c58dfc"
  },
  {
   "cell_type": "code",
   "execution_count": 1,
   "outputs": [
    {
     "name": "stdout",
     "output_type": "stream",
     "text": [
      ">>> ../../datas/KoT5/도서자료 요약/Training/[원천]도서요약_train/기술과학 ...\n"
     ]
    },
    {
     "data": {
      "text/plain": "  0%|          | 0/23918 [00:00<?, ?it/s]",
      "application/vnd.jupyter.widget-view+json": {
       "version_major": 2,
       "version_minor": 0,
       "model_id": "f740d8afa8044a949e4909ace81c6de9"
      }
     },
     "metadata": {},
     "output_type": "display_data"
    },
    {
     "name": "stdout",
     "output_type": "stream",
     "text": [
      ">>> ../../datas/KoT5/도서자료 요약/Training/[원천]도서요약_train/기타 ...\n"
     ]
    },
    {
     "data": {
      "text/plain": "  0%|          | 0/6753 [00:00<?, ?it/s]",
      "application/vnd.jupyter.widget-view+json": {
       "version_major": 2,
       "version_minor": 0,
       "model_id": "6425bb2e81474e6fa29cb3620528e6aa"
      }
     },
     "metadata": {},
     "output_type": "display_data"
    },
    {
     "name": "stdout",
     "output_type": "stream",
     "text": [
      ">>> ../../datas/KoT5/도서자료 요약/Training/[원천]도서요약_train/사회과학 ...\n"
     ]
    },
    {
     "data": {
      "text/plain": "  0%|          | 0/115440 [00:00<?, ?it/s]",
      "application/vnd.jupyter.widget-view+json": {
       "version_major": 2,
       "version_minor": 0,
       "model_id": "c360f8bb35464263a53bc458373c570e"
      }
     },
     "metadata": {},
     "output_type": "display_data"
    },
    {
     "name": "stdout",
     "output_type": "stream",
     "text": [
      ">>> ../../datas/KoT5/도서자료 요약/Training/[원천]도서요약_train/예술 ...\n"
     ]
    },
    {
     "data": {
      "text/plain": "  0%|          | 0/13891 [00:00<?, ?it/s]",
      "application/vnd.jupyter.widget-view+json": {
       "version_major": 2,
       "version_minor": 0,
       "model_id": "7d310990f9bb40d3b8f1b2a4d497ec04"
      }
     },
     "metadata": {},
     "output_type": "display_data"
    },
    {
     "name": "stdout",
     "output_type": "stream",
     "text": [
      ">>> ../../datas/KoT5/도서자료 요약/Validation/[원천]도서요약_valid/기술과학 ...\n"
     ]
    },
    {
     "data": {
      "text/plain": "  0%|          | 0/2989 [00:00<?, ?it/s]",
      "application/vnd.jupyter.widget-view+json": {
       "version_major": 2,
       "version_minor": 0,
       "model_id": "3d46ff37c7f443e5bdcda44cfc777dff"
      }
     },
     "metadata": {},
     "output_type": "display_data"
    },
    {
     "name": "stdout",
     "output_type": "stream",
     "text": [
      ">>> ../../datas/KoT5/도서자료 요약/Validation/[원천]도서요약_valid/기타 ...\n"
     ]
    },
    {
     "data": {
      "text/plain": "  0%|          | 0/844 [00:00<?, ?it/s]",
      "application/vnd.jupyter.widget-view+json": {
       "version_major": 2,
       "version_minor": 0,
       "model_id": "f157cba00ff74a63bcffc65af8be45db"
      }
     },
     "metadata": {},
     "output_type": "display_data"
    },
    {
     "name": "stdout",
     "output_type": "stream",
     "text": [
      ">>> ../../datas/KoT5/도서자료 요약/Validation/[원천]도서요약_valid/사회과학 ...\n"
     ]
    },
    {
     "data": {
      "text/plain": "  0%|          | 0/14430 [00:00<?, ?it/s]",
      "application/vnd.jupyter.widget-view+json": {
       "version_major": 2,
       "version_minor": 0,
       "model_id": "c4d37650cbe84573b6eafa4b420f10bf"
      }
     },
     "metadata": {},
     "output_type": "display_data"
    },
    {
     "name": "stdout",
     "output_type": "stream",
     "text": [
      ">>> ../../datas/KoT5/도서자료 요약/Validation/[원천]도서요약_valid/예술 ...\n"
     ]
    },
    {
     "data": {
      "text/plain": "  0%|          | 0/1736 [00:00<?, ?it/s]",
      "application/vnd.jupyter.widget-view+json": {
       "version_major": 2,
       "version_minor": 0,
       "model_id": "6e6b960ec0804a24888b7309298e950d"
      }
     },
     "metadata": {},
     "output_type": "display_data"
    }
   ],
   "source": [
    "from tqdm.auto import tqdm\n",
    "import json, os\n",
    "import pandas as pd\n",
    "\n",
    "base_dir = \"../../datas/KoT5/도서자료 요약\"\n",
    "training_dir = f\"{base_dir}/Training/[원천]도서요약_train\"\n",
    "valid_dir = f\"{base_dir}/Validation/[원천]도서요약_valid\"\n",
    "sub_dirs = [\"기술과학\", \"기타\", \"사회과학\", \"예술\"]\n",
    "\n",
    "def make_dataset(root_dir: str, output_file_name: str) -> None:\n",
    "    column_names = [\"review_title\", \"review_body\"]\n",
    "    row_data = []\n",
    "    \n",
    "    for sub_dir in sub_dirs:\n",
    "        json_dir = f\"{root_dir}/{sub_dir}\"\n",
    "        print(f\">>> {json_dir} ...\")\n",
    "        \n",
    "        json_files = [json_file for json_file in os.listdir(json_dir) if json_file.endswith(\".json\")]\n",
    "        progress_bar = tqdm(range(len(json_files)))\n",
    "        \n",
    "        for json_file in json_files:\n",
    "            with open(f\"{json_dir}/{json_file}\", \"r\") as jp:\n",
    "                review = json.load(jp)\n",
    "            summary = review[\"summary\"].replace(\"\\t\", \"\").strip()\n",
    "            passage = review[\"passage\"].replace(\"\\t\", \"\").strip()\n",
    "            row_data.append((summary, passage))\n",
    "            progress_bar.update(1)\n",
    "    \n",
    "    dataset = pd.DataFrame.from_records(row_data, columns = column_names)\n",
    "    dataset.to_json(output_file_name, orient = \"records\")\n",
    "\n",
    "make_dataset(training_dir, \"../../datas/KoT5/train_dataset.json\")\n",
    "make_dataset(valid_dir, \"../../datas/KoT5/valid_dataset.json\")"
   ],
   "metadata": {
    "collapsed": false,
    "ExecuteTime": {
     "end_time": "2023-08-30T00:48:32.960583300Z",
     "start_time": "2023-08-29T23:30:12.041742800Z"
    }
   },
   "id": "3c51d425900a1ce"
  },
  {
   "cell_type": "code",
   "execution_count": 4,
   "outputs": [
    {
     "data": {
      "text/plain": "DatasetDict({\n    train: Dataset({\n        features: ['review_body', 'review_title'],\n        num_rows: 160002\n    })\n    validation: Dataset({\n        features: ['review_body', 'review_title'],\n        num_rows: 19999\n    })\n})"
     },
     "execution_count": 4,
     "metadata": {},
     "output_type": "execute_result"
    }
   ],
   "source": [
    "from datasets import load_dataset\n",
    "data_files = {\n",
    "        \"train\": \"../../datas/KoT5/train_dataset.json\",\n",
    "        \"validation\": \"../../datas/KoT5/valid_dataset.json\"\n",
    "}\n",
    "datasets = load_dataset(\"json\", data_files = data_files)\n",
    "datasets"
   ],
   "metadata": {
    "collapsed": false,
    "ExecuteTime": {
     "end_time": "2023-08-30T01:07:18.613577900Z",
     "start_time": "2023-08-30T01:07:17.456945400Z"
    }
   },
   "id": "f7a9a5e93317f925"
  },
  {
   "cell_type": "code",
   "execution_count": 5,
   "outputs": [
    {
     "data": {
      "text/plain": "{'review_body': '지금의 국가가 직면하는 위기는 전통사회의 그것과 위기의 규모뿐만아니라 종류와 성질 면에서 사뭇 다르다고 할 수 있다. 즉 현대 사회에서는 매우 다양하고 광범위하게 위기가 발생할 뿐만 아니라 지구온난화에 따른 각종 자연재해로부터 인위적 재난인 사회적 이슈로 인한 위기에 이르기까지 복잡한 양상을 보이고 있다. 따라서 위기의 영향은 한 산업뿐만 아니라 국가의 재난으로 이어지는 경우가 많다. 따라서 국가는 이러한 위기상황이 발생하였을 경우에 그 징후를 빨리 파악하고 대응하지 않으면 안 되는데, 국민의 생명과 재산을 보호하는 것이 바로 국가의 가장 기본적인 의무이기 때문이다.',\n 'review_title': '현대 사회에서 발생하는 다양하고 복잡한 위기는 과거와 다르게 국가의 재난으로 이어질 수 있으므로 국가의 신속한 대책 능력이 필요하다.'}"
     },
     "execution_count": 5,
     "metadata": {},
     "output_type": "execute_result"
    }
   ],
   "source": [
    "datasets[\"train\"][0]"
   ],
   "metadata": {
    "collapsed": false,
    "ExecuteTime": {
     "end_time": "2023-08-30T01:07:20.237860800Z",
     "start_time": "2023-08-30T01:07:20.181860100Z"
    }
   },
   "id": "505cb00ac0b55ead"
  },
  {
   "cell_type": "code",
   "execution_count": 6,
   "outputs": [
    {
     "name": "stdout",
     "output_type": "stream",
     "text": [
      ">>> Title: 콤바인 기계를 통한 직립형 팥의 넓은 이랑 줄뿌림 재배기술은 인력 및 트랙터 활용 대비 노동력 절감 효과 및 소득증대의 이점이 있다. 따라서, 보급을 넓힐 예정이다.\n",
      ">>> Review: 직립형 팥의 넓은이랑 줄뿌림 재배기술은 콤바인 기계 수확을 조합한 재배체계에서 10a당 작업시간(경운·정지·제초제 살포·파종·병해충 방제, 수확작업)이 2.6시간/10a으로 인력점파 대비 21.95시간/10a, 트랙터 부착 기계점파 대비 1.11시간/10a 노동시간이 절감되고, 인력점파 대비 파종 68.7%, 수확 92.6% 노동력 절감효과가 있다. 또한 넓은이랑 줄뿌림재배는 인력점파 대비 50%, 기계점파 대비 26% 소득 증가효과가 있다. 팥의 줄뿌림 파종과 콤바인 기계 수확 재배기술은 기계화 체계를 추진하는 주산단지를 중심으로 보급해 나갈 계획이다\n",
      ">>> Title: 2016년 추진된 국가인재DB 3차 고도화 작업은 맞춤형 인재 추천을 지원하는 등 정부조직의 변화와 제도 정비에 따라 국가인재DB를 대응하는 차원의 변화였다.\n",
      ">>> Review: 국가인재DB 3차 고도화 사업은 정부 조직의 변화와 제도 정비에 따라 기존 시스템의 한계점을 보완하기 위해 2016년에 추진되었다. 이 시기에는 국가인재DB 국민추천제 등 신규 업무가 추가됨에 따라 시스템의 최적화가 필요했고, 사용자의 요구에 맞는 인물정보를 제공하여 맞춤형 인재 추천을 지원해야 했다. 기존의 단순 정보제공으로는 개방형 직위, 현장전문가 및 여성인재 발굴 등 분야별 인재 발굴에 한계가 있었기 때문이다. 그밖에도 기존장비 노후화 및 새로운 IT 환경에 발맞춰 국가인재DB 역시 선제적인 대응이 필요했다. 특히 웹 표준 준수, 외부 사용자의 불편사항 개선 등 내·외부 홈페이지를 사용자 중심으로 변환할 필요가 있었다.\n",
      ">>> Title: 한국인의 가족에 대한 가치관은 남성 가장 중심성과 가족 우선성에 있어서 지난 10년 여의 기간 동안 큰 변화를 보였는데 남성 가장을 우선하는 태도와 개인보다 가족을 우선하는 태도가 감소했다. 이는 고소득, 고학력, 저연령층에서 더욱 두드러졌다.\n",
      ">>> Review: 이제까지 가족에 대한 가치관을 [남성 가장 중심성]과 [가족 우선성]이라는 두 범주의 네 문항을 중심으로 그 특징과 시간적 변화를 살펴봤다. 우선 한국인의 가족에 대한 가치관은 지난 10년 혹은 그 이상의 기간 동안 제법 큰 변화를 경험했다. 남성 가장을 우선하는 태도가 감소하였으며, 개인보다 가족을 우선하는 태도 역시 감소하였다. 네 문항 중 가장 두드러진 변화는, 아내에 비해 남편을 우선하는 관습에 대한 태도이다. 전체적으로 찬성의 태도에서 반대의 태도로 변화한 것을 확인할 수 있다. 특히 저연령층, 구체적으로 18-29세 집단이 급격한 태도 변화를 보여주는 경우가 많았다. 아내가 남편을 보조해야 한다는 의견에 대한 응답과 자기 자신보다 가족을 우선한다는 의견에 대한 응답이 이를 잘 보여준다. 전체적으로 보면 상대적으로 고소득층, 고학력층, 저연령층 일수록 시간에 따른 부정적인 변화 방향으로의 태도 변화가 조금이나마 더 두드러지는 경우가 많았다.\n"
     ]
    }
   ],
   "source": [
    "from datasets import Dataset\n",
    "\n",
    "def show_samples(dataset: Dataset, num_samples: int = 3, seed = 42):\n",
    "    samples = dataset.shuffle(seed = seed).select(range(num_samples))\n",
    "    for example in samples:\n",
    "        print(f\">>> Title: {example['review_title']}\")\n",
    "        print(f\">>> Review: {example['review_body']}\")\n",
    "        \n",
    "show_samples(datasets[\"train\"])"
   ],
   "metadata": {
    "collapsed": false,
    "ExecuteTime": {
     "end_time": "2023-08-30T01:07:21.558246800Z",
     "start_time": "2023-08-30T01:07:21.495225400Z"
    }
   },
   "id": "9eea9a856f78d90a"
  },
  {
   "cell_type": "code",
   "execution_count": 22,
   "outputs": [
    {
     "data": {
      "text/plain": "<Figure size 640x480 with 2 Axes>",
      "image/png": "[encoded data removed]"
     },
     "metadata": {},
     "output_type": "display_data"
    }
   ],
   "source": [
    "# 문장 길이 확인\n",
    "from collections import defaultdict\n",
    "import matplotlib.pyplot as plt\n",
    "\n",
    "fig = plt.figure()\n",
    "\n",
    "for fig_idx, split in enumerate([\"train\", \"validation\"]):\n",
    "    title = f\"Datasets[\\\"{split}\\\"]\"\n",
    "    length_dict = defaultdict(int)\n",
    "    for idx in range(datasets[split].num_rows):\n",
    "        review_body_length = len(datasets[split][idx][\"review_body\"].split())\n",
    "        length_dict[review_body_length] += 1\n",
    "    length_dict = dict(sorted(length_dict.items(), key = lambda x: x[0]))\n",
    "    fig_plot = fig.add_subplot(2, 1, fig_idx + 1)\n",
    "    fig_plot.set_title(title)\n",
    "    fig_plot.set_xticks((range(50, 250, 20)))\n",
    "    fig_plot.plot(length_dict.keys(), length_dict.values())\n",
    "    "
   ],
   "metadata": {
    "collapsed": false,
    "ExecuteTime": {
     "end_time": "2023-08-30T01:36:32.985075100Z",
     "start_time": "2023-08-30T01:36:28.539715300Z"
    }
   },
   "id": "76ba3b29ceefa294"
  },
  {
   "cell_type": "code",
   "execution_count": 23,
   "outputs": [
    {
     "data": {
      "text/plain": "Filter:   0%|          | 0/160002 [00:00<?, ? examples/s]",
      "application/vnd.jupyter.widget-view+json": {
       "version_major": 2,
       "version_minor": 0,
       "model_id": "9971e5134c924e67a27aed06be609fa7"
      }
     },
     "metadata": {},
     "output_type": "display_data"
    },
    {
     "data": {
      "text/plain": "Filter:   0%|          | 0/19999 [00:00<?, ? examples/s]",
      "application/vnd.jupyter.widget-view+json": {
       "version_major": 2,
       "version_minor": 0,
       "model_id": "9ba1d48d7b2a4b13b260690736e4c0ed"
      }
     },
     "metadata": {},
     "output_type": "display_data"
    },
    {
     "data": {
      "text/plain": "DatasetDict({\n    train: Dataset({\n        features: ['review_body', 'review_title'],\n        num_rows: 61574\n    })\n    validation: Dataset({\n        features: ['review_body', 'review_title'],\n        num_rows: 7921\n    })\n})"
     },
     "execution_count": 23,
     "metadata": {},
     "output_type": "execute_result"
    }
   ],
   "source": [
    "# 70 ~ 90개 단어로 이루어진 리뷰만 사용하기\n",
    "filtered_datasets = datasets.filter(lambda x: 70 <= len(x[\"review_body\"].split()) <= 90)\n",
    "filtered_datasets"
   ],
   "metadata": {
    "collapsed": false,
    "ExecuteTime": {
     "end_time": "2023-08-30T01:36:50.039998800Z",
     "start_time": "2023-08-30T01:36:48.655287200Z"
    }
   },
   "id": "ccb37b553ee6bbed"
  },
  {
   "cell_type": "markdown",
   "source": [
    "## Tokenize\n",
    "리뷰와 제목을 토큰화하고 인코딩\n",
    "\n",
    "모델은 [psyche/KoT5-summarization](https://huggingface.co/psyche/KoT5-summarization) 사용"
   ],
   "metadata": {
    "collapsed": false
   },
   "id": "50a684c164ede33e"
  },
  {
   "cell_type": "code",
   "execution_count": 24,
   "outputs": [
    {
     "data": {
      "text/plain": "Downloading (…)okenizer_config.json:   0%|          | 0.00/2.52k [00:00<?, ?B/s]",
      "application/vnd.jupyter.widget-view+json": {
       "version_major": 2,
       "version_minor": 0,
       "model_id": "17ccd4cc5dfc441ab60f0780f05a0d03"
      }
     },
     "metadata": {},
     "output_type": "display_data"
    },
    {
     "data": {
      "text/plain": "Downloading (…)/main/tokenizer.json:   0%|          | 0.00/1.88M [00:00<?, ?B/s]",
      "application/vnd.jupyter.widget-view+json": {
       "version_major": 2,
       "version_minor": 0,
       "model_id": "232278c3abbb44e0b41374780ea6a77d"
      }
     },
     "metadata": {},
     "output_type": "display_data"
    },
    {
     "data": {
      "text/plain": "Downloading (…)cial_tokens_map.json:   0%|          | 0.00/2.20k [00:00<?, ?B/s]",
      "application/vnd.jupyter.widget-view+json": {
       "version_major": 2,
       "version_minor": 0,
       "model_id": "40215497c00d41c1afff0b6fc3f000a6"
      }
     },
     "metadata": {},
     "output_type": "display_data"
    },
    {
     "name": "stdout",
     "output_type": "stream",
     "text": [
      ">>> Input: 30일 기상청에 따르면 태풍 하이쿠이는 오전 3시 기준 괌 북서쪽 약 1140km 부근을 지나고 있으며 중심기압은 980hPa이다.\n",
      ">>> Tokenized: {'input_ids': [528, 25931, 2596, 6106, 873, 3565, 2788, 26436, 437, 965, 63, 25911, 917, 20337, 12344, 26298, 322, 467, 2490, 2283, 5607, 25895, 13520, 1034, 853, 25903, 26444, 25905, 272, 2725, 26358, 26333, 26148, 41, 25892, 1], 'attention_mask': [1, 1, 1, 1, 1, 1, 1, 1, 1, 1, 1, 1, 1, 1, 1, 1, 1, 1, 1, 1, 1, 1, 1, 1, 1, 1, 1, 1, 1, 1, 1, 1, 1, 1, 1, 1]}\n",
      ">>> Converted Tokens from input_ids: ['▁30', '일', '▁기상', '청에', '▁따르면', '▁태풍', '▁하이', '쿠', '이는', '▁오전', '▁3', '시', '▁기준', '▁괌', '▁북서', '쪽', '▁약', '▁11', '40', 'km', '▁부근', '을', '▁지나고', '▁있으며', '▁중심', '기', '압', '은', '▁9', '80', 'h', 'P', 'a', '이다', '.', '</s>']\n"
     ]
    }
   ],
   "source": [
    "from transformers import AutoTokenizer\n",
    "\n",
    "model_checkpoint = \"psyche/KoT5-summarization\"\n",
    "tokenizer = AutoTokenizer.from_pretrained(model_checkpoint)\n",
    "\n",
    "inputs = \"30일 기상청에 따르면 태풍 하이쿠이는 오전 3시 기준 괌 북서쪽 약 1140km 부근을 지나고 있으며 중심기압은 980hPa이다.\"\n",
    "tokenized_inputs = tokenizer(inputs)\n",
    "converted_from_ids = tokenizer.convert_ids_to_tokens(tokenized_inputs.input_ids)\n",
    "print(f\">>> Input: {inputs}\")\n",
    "print(f\">>> Tokenized: {tokenized_inputs}\")\n",
    "print(f\">>> Converted Tokens from input_ids: {converted_from_ids}\")"
   ],
   "metadata": {
    "collapsed": false,
    "ExecuteTime": {
     "end_time": "2023-08-30T01:44:00.591100600Z",
     "start_time": "2023-08-30T01:43:56.033488400Z"
    }
   },
   "id": "7213955562d3ff80"
  },
  {
   "cell_type": "markdown",
   "source": [
    "말뭉치를 토큰화하려면 요약 작업과 관련된 특수한 상황을 처리해야 한다. 지나치게 긴 입력은 truncation 작업을 수행한다.\n",
    "\n",
    "~~&#129303;Transformers의 Tokenizer는 입력과 병렬로 레이블을 토큰화할 수 있는 `as_target_tokenizer()` 함수를 제공한다.(Deprecated in Transformers v5)~~\n",
    "\n",
    "이것은 일반적으로 먼저 입력을 인코딩한 다음 레이블을 별도의 열로 인코딩하는 전처리 함수 내부의 컨텍스트 관리자를 사용하여 수행된다."
   ],
   "metadata": {
    "collapsed": false
   },
   "id": "5159db9346faf65"
  },
  {
   "cell_type": "code",
   "execution_count": 26,
   "outputs": [
    {
     "data": {
      "text/plain": "T5TokenizerFast(name_or_path='psyche/KoT5-summarization', vocab_size=32100, model_max_length=1000000000000000019884624838656, is_fast=True, padding_side='right', truncation_side='right', special_tokens={'eos_token': '</s>', 'unk_token': '<unk>', 'pad_token': '<pad>', 'additional_special_tokens': ['<extra_id_0>', '<extra_id_1>', '<extra_id_2>', '<extra_id_3>', '<extra_id_4>', '<extra_id_5>', '<extra_id_6>', '<extra_id_7>', '<extra_id_8>', '<extra_id_9>', '<extra_id_10>', '<extra_id_11>', '<extra_id_12>', '<extra_id_13>', '<extra_id_14>', '<extra_id_15>', '<extra_id_16>', '<extra_id_17>', '<extra_id_18>', '<extra_id_19>', '<extra_id_20>', '<extra_id_21>', '<extra_id_22>', '<extra_id_23>', '<extra_id_24>', '<extra_id_25>', '<extra_id_26>', '<extra_id_27>', '<extra_id_28>', '<extra_id_29>', '<extra_id_30>', '<extra_id_31>', '<extra_id_32>', '<extra_id_33>', '<extra_id_34>', '<extra_id_35>', '<extra_id_36>', '<extra_id_37>', '<extra_id_38>', '<extra_id_39>', '<extra_id_40>', '<extra_id_41>', '<extra_id_42>', '<extra_id_43>', '<extra_id_44>', '<extra_id_45>', '<extra_id_46>', '<extra_id_47>', '<extra_id_48>', '<extra_id_49>', '<extra_id_50>', '<extra_id_51>', '<extra_id_52>', '<extra_id_53>', '<extra_id_54>', '<extra_id_55>', '<extra_id_56>', '<extra_id_57>', '<extra_id_58>', '<extra_id_59>', '<extra_id_60>', '<extra_id_61>', '<extra_id_62>', '<extra_id_63>', '<extra_id_64>', '<extra_id_65>', '<extra_id_66>', '<extra_id_67>', '<extra_id_68>', '<extra_id_69>', '<extra_id_70>', '<extra_id_71>', '<extra_id_72>', '<extra_id_73>', '<extra_id_74>', '<extra_id_75>', '<extra_id_76>', '<extra_id_77>', '<extra_id_78>', '<extra_id_79>', '<extra_id_80>', '<extra_id_81>', '<extra_id_82>', '<extra_id_83>', '<extra_id_84>', '<extra_id_85>', '<extra_id_86>', '<extra_id_87>', '<extra_id_88>', '<extra_id_89>', '<extra_id_90>', '<extra_id_91>', '<extra_id_92>', '<extra_id_93>', '<extra_id_94>', '<extra_id_95>', '<extra_id_96>', '<extra_id_97>', '<extra_id_98>', '<extra_id_99>']}, clean_up_tokenization_spaces=True)"
     },
     "execution_count": 26,
     "metadata": {},
     "output_type": "execute_result"
    }
   ],
   "source": [
    "tokenizer"
   ],
   "metadata": {
    "collapsed": false,
    "ExecuteTime": {
     "end_time": "2023-08-30T01:47:46.056873100Z",
     "start_time": "2023-08-30T01:47:46.001250600Z"
    }
   },
   "id": "de6d5b1abd343b0e"
  },
  {
   "cell_type": "code",
   "execution_count": 27,
   "outputs": [
    {
     "data": {
      "text/plain": "<Figure size 640x480 with 2 Axes>",
      "image/png": "[encoded data removed]"
     },
     "metadata": {},
     "output_type": "display_data"
    }
   ],
   "source": [
    "import matplotlib.pyplot as plt\n",
    "\n",
    "fig = plt.figure()\n",
    "\n",
    "for plt_idx, split in enumerate([\"train\", \"validation\"]):\n",
    "    title = f\"Datasets[\\\"{split}\\\"]\"\n",
    "    length_dict = defaultdict(int)\n",
    "    for idx in range(filtered_datasets[split].num_rows):\n",
    "        token_length = len(filtered_datasets[split][idx][\"review_title\"].split())\n",
    "        length_dict[token_length] += 1\n",
    "    length_dict = dict(sorted(length_dict.items(), key = lambda x: x[0]))\n",
    "    \n",
    "    sub_plot = fig.add_subplot(2, 1, plt_idx + 1)\n",
    "    sub_plot.set_title(title)\n",
    "    sub_plot.plot(length_dict.keys(), length_dict.values())"
   ],
   "metadata": {
    "collapsed": false,
    "ExecuteTime": {
     "end_time": "2023-08-30T01:53:23.474778500Z",
     "start_time": "2023-08-30T01:53:21.434085600Z"
    }
   },
   "id": "a14bc7ec70545181"
  },
  {
   "cell_type": "code",
   "execution_count": 31,
   "outputs": [],
   "source": [
    "max_input_length = 512\n",
    "max_target_length = 30\n",
    "\n",
    "\n",
    "def preprocess_function(examples):\n",
    "    model_inputs = tokenizer(\n",
    "\t\t\texamples[\"review_body\"], max_length = max_input_length, truncation = True\n",
    "\t)\n",
    "    \n",
    "    # 타겟을 위한 토크나이저 설정\n",
    "    labels = tokenizer(\n",
    "            text_target = examples[\"review_title\"], max_length = max_target_length, truncation = True\n",
    "    )\n",
    "    \n",
    "    model_inputs[\"labels\"] = labels[\"input_ids\"]\n",
    "    return model_inputs   "
   ],
   "metadata": {
    "collapsed": false,
    "ExecuteTime": {
     "end_time": "2023-08-30T02:12:22.053590Z",
     "start_time": "2023-08-30T02:12:22.042590500Z"
    }
   },
   "id": "d851fe8e9c7597e2"
  },
  {
   "cell_type": "code",
   "execution_count": 32,
   "outputs": [
    {
     "data": {
      "text/plain": "Map (num_proc=8):   0%|          | 0/61574 [00:00<?, ? examples/s]",
      "application/vnd.jupyter.widget-view+json": {
       "version_major": 2,
       "version_minor": 0,
       "model_id": "d1d74c2759bc401fb38823d50c8b8e26"
      }
     },
     "metadata": {},
     "output_type": "display_data"
    },
    {
     "data": {
      "text/plain": "Map (num_proc=8):   0%|          | 0/7921 [00:00<?, ? examples/s]",
      "application/vnd.jupyter.widget-view+json": {
       "version_major": 2,
       "version_minor": 0,
       "model_id": "f0f3b36f56ca4cec8796ef21061fbba4"
      }
     },
     "metadata": {},
     "output_type": "display_data"
    },
    {
     "data": {
      "text/plain": "DatasetDict({\n    train: Dataset({\n        features: ['review_body', 'review_title', 'input_ids', 'attention_mask', 'labels'],\n        num_rows: 61574\n    })\n    validation: Dataset({\n        features: ['review_body', 'review_title', 'input_ids', 'attention_mask', 'labels'],\n        num_rows: 7921\n    })\n})"
     },
     "execution_count": 32,
     "metadata": {},
     "output_type": "execute_result"
    }
   ],
   "source": [
    "tokenized_datasets = filtered_datasets.map(preprocess_function, batched = True, num_proc = 8)\n",
    "tokenized_datasets"
   ],
   "metadata": {
    "collapsed": false,
    "ExecuteTime": {
     "end_time": "2023-08-30T02:12:26.316187Z",
     "start_time": "2023-08-30T02:12:23.192748600Z"
    }
   },
   "id": "aaf99798dc64d706"
  },
  {
   "cell_type": "code",
   "execution_count": 35,
   "outputs": [
    {
     "name": "stdout",
     "output_type": "stream",
     "text": [
      "[5984, 10379, 13386, 32, 49, 459, 1513, 8579, 722, 25938, 23810, 1141, 3649, 3359, 25927, 3570, 25972, 113, 26140, 9383, 23577, 2389, 120, 173, 11, 35, 25892, 1051, 729, 529, 228, 1152, 22473, 14734, 121, 20627, 6867, 3671, 506, 3071, 26149, 26054, 3354, 1682, 1571, 1050, 14447, 1267, 22854, 25952, 7233, 25915, 2682, 5572, 25901, 2583, 7193, 10440, 9469, 20577, 2820, 35, 25892, 1942, 23810, 951, 25905, 16, 1306, 3649, 506, 7628, 7233, 6, 5189, 1943, 1822, 25892, 1942, 21135, 1546, 4748, 4913, 25890, 656, 1364, 25895, 7353, 5, 1764, 22664, 2282, 12615, 2064, 231, 2741, 72, 4226, 25907, 2990, 79, 3601, 12964, 21736, 198, 593, 7628, 343, 9200, 3742, 1460, 895, 25892, 1]\n",
      "[729, 12594, 5687, 22473, 9469, 49, 459, 19842, 5370, 7628, 7233, 6, 5981, 11, 8385, 7628, 17473, 1841, 6704, 2926, 25892, 1]\n"
     ]
    }
   ],
   "source": [
    "print(tokenized_datasets[\"train\"][0][\"input_ids\"])\n",
    "print(tokenized_datasets[\"train\"][0][\"labels\"])"
   ],
   "metadata": {
    "collapsed": false,
    "ExecuteTime": {
     "end_time": "2023-08-30T02:13:44.431924200Z",
     "start_time": "2023-08-30T02:13:44.387780400Z"
    }
   },
   "id": "d1a80d60803d528"
  },
  {
   "cell_type": "markdown",
   "source": [
    "## 텍스트 요약을 위한 평가지표\n"
   ],
   "metadata": {
    "collapsed": false
   },
   "id": "5f73f342b17496fe"
  }
 ],
 "metadata": {
  "kernelspec": {
   "display_name": "Python 3",
   "language": "python",
   "name": "python3"
  },
  "language_info": {
   "codemirror_mode": {
    "name": "ipython",
    "version": 2
   },
   "file_extension": ".py",
   "mimetype": "text/x-python",
   "name": "python",
   "nbconvert_exporter": "python",
   "pygments_lexer": "ipython2",
   "version": "2.7.6"
  }
 },
 "nbformat": 4,
 "nbformat_minor": 5
}
